{
  "nbformat": 4,
  "nbformat_minor": 0,
  "metadata": {
    "colab": {
      "provenance": [],
      "authorship_tag": "ABX9TyOSLLOzvfV2ugVTC2ccyr9G",
      "include_colab_link": true
    },
    "kernelspec": {
      "name": "python3",
      "display_name": "Python 3"
    },
    "language_info": {
      "name": "python"
    }
  },
  "cells": [
    {
      "cell_type": "markdown",
      "metadata": {
        "id": "view-in-github",
        "colab_type": "text"
      },
      "source": [
        "<a href=\"https://colab.research.google.com/github/011010110100/estatistica-aplicada-4T/blob/main/main.ipynb\" target=\"_parent\"><img src=\"https://colab.research.google.com/assets/colab-badge.svg\" alt=\"Open In Colab\"/></a>"
      ]
    },
    {
      "cell_type": "code",
      "source": [
        "!apt-get install -y r-base\n",
        "%load_ext rpy2.ipython"
      ],
      "metadata": {
        "colab": {
          "base_uri": "https://localhost:8080/"
        },
        "id": "slk7hNPkRjaz",
        "outputId": "107b261e-5487-4c9d-ccb3-f04e409de989"
      },
      "execution_count": 1,
      "outputs": [
        {
          "output_type": "stream",
          "name": "stdout",
          "text": [
            "Reading package lists... Done\n",
            "Building dependency tree... Done\n",
            "Reading state information... Done\n",
            "r-base is already the newest version (4.4.3-1.2204.0).\n",
            "0 upgraded, 0 newly installed, 0 to remove and 29 not upgraded.\n"
          ]
        }
      ]
    },
    {
      "cell_type": "code",
      "source": [
        "# Verificando se o R foi instalado corretamente.\n",
        "%%R\n",
        "x <- c(1, 2, 3, 4, 5)\n",
        "mean(x)"
      ],
      "metadata": {
        "colab": {
          "base_uri": "https://localhost:8080/"
        },
        "id": "hs87qDyiRrih",
        "outputId": "e3dd4ab7-22cc-4ee8-83d9-f789610e1d05"
      },
      "execution_count": 3,
      "outputs": [
        {
          "output_type": "stream",
          "name": "stdout",
          "text": [
            "[1] 3\n"
          ]
        }
      ]
    },
    {
      "cell_type": "code",
      "source": [
        "%%R\n",
        "ini <- Sys.time()\n",
        "install.packages(c('skimr', 'tidyverse'), dependencies = TRUE)\n",
        "Sys.time() - ini\n",
        "library(skimr)\n",
        "library(tidyverse)\n",
        "library(MASS)\n"
      ],
      "metadata": {
        "id": "uawqOBdeRvkk",
        "outputId": "dd86d688-e98f-4e62-c9a7-a93c340b9594",
        "colab": {
          "base_uri": "https://localhost:8080/",
          "height": 1000
        }
      },
      "execution_count": 4,
      "outputs": [
        {
          "output_type": "stream",
          "name": "stdout",
          "text": [
            "── Attaching core tidyverse packages ──────────────────────── tidyverse 2.0.0 ──\n",
            "✔ dplyr     1.1.4     ✔ readr     2.1.5\n",
            "✔ forcats   1.0.0     ✔ stringr   1.5.1\n",
            "✔ ggplot2   3.5.1     ✔ tibble    3.2.1\n",
            "✔ lubridate 1.9.4     ✔ tidyr     1.3.1\n",
            "✔ purrr     1.0.4     \n",
            "── Conflicts ────────────────────────────────────────── tidyverse_conflicts() ──\n",
            "✖ dplyr::filter() masks stats::filter()\n",
            "✖ dplyr::lag()    masks stats::lag()\n",
            "ℹ Use the conflicted package (<http://conflicted.r-lib.org/>) to force all conflicts to become errors\n"
          ]
        },
        {
          "output_type": "display_data",
          "data": {
            "text/plain": [
              "Installing packages into ‘/usr/local/lib/R/site-library’\n",
              "(as ‘lib’ is unspecified)\n",
              "also installing the dependencies ‘lazyeval’, ‘rex’, ‘extrafontdb’, ‘Rttf2pt1’, ‘covr’, ‘extrafont’, ‘feather’, ‘mockr’\n",
              "\n",
              "trying URL 'https://cran.rstudio.com/src/contrib/lazyeval_0.2.2.tar.gz'\n",
              "Content type 'application/x-gzip' length 83482 bytes (81 KB)\n",
              "==================================================\n",
              "downloaded 81 KB\n",
              "\n",
              "trying URL 'https://cran.rstudio.com/src/contrib/rex_1.2.1.tar.gz'\n",
              "Content type 'application/x-gzip' length 93583 bytes (91 KB)\n",
              "==================================================\n",
              "downloaded 91 KB\n",
              "\n",
              "trying URL 'https://cran.rstudio.com/src/contrib/extrafontdb_1.0.tar.gz'\n",
              "Content type 'application/x-gzip' length 1672 bytes\n",
              "==================================================\n",
              "downloaded 1672 bytes\n",
              "\n",
              "trying URL 'https://cran.rstudio.com/src/contrib/Rttf2pt1_1.3.12.tar.gz'\n",
              "Content type 'application/x-gzip' length 221360 bytes (216 KB)\n",
              "==================================================\n",
              "downloaded 216 KB\n",
              "\n",
              "trying URL 'https://cran.rstudio.com/src/contrib/covr_3.6.4.tar.gz'\n",
              "Content type 'application/x-gzip' length 163362 bytes (159 KB)\n",
              "==================================================\n",
              "downloaded 159 KB\n",
              "\n",
              "trying URL 'https://cran.rstudio.com/src/contrib/extrafont_0.19.tar.gz'\n",
              "Content type 'application/x-gzip' length 16533 bytes (16 KB)\n",
              "==================================================\n",
              "downloaded 16 KB\n",
              "\n",
              "trying URL 'https://cran.rstudio.com/src/contrib/feather_0.3.5.tar.gz'\n",
              "Content type 'application/x-gzip' length 73812 bytes (72 KB)\n",
              "==================================================\n",
              "downloaded 72 KB\n",
              "\n",
              "trying URL 'https://cran.rstudio.com/src/contrib/mockr_0.2.1.tar.gz'\n",
              "Content type 'application/x-gzip' length 20956 bytes (20 KB)\n",
              "==================================================\n",
              "downloaded 20 KB\n",
              "\n",
              "trying URL 'https://cran.rstudio.com/src/contrib/skimr_2.1.5.tar.gz'\n",
              "Content type 'application/x-gzip' length 1123025 bytes (1.1 MB)\n",
              "==================================================\n",
              "downloaded 1.1 MB\n",
              "\n",
              "trying URL 'https://cran.rstudio.com/src/contrib/tidyverse_2.0.0.tar.gz'\n",
              "Content type 'application/x-gzip' length 704618 bytes (688 KB)\n",
              "==================================================\n",
              "downloaded 688 KB\n",
              "\n",
              "\n",
              "The downloaded source packages are in\n",
              "\t‘/tmp/RtmpEa10x9/downloaded_packages’\n",
              "\n",
              "Attaching package: ‘MASS’\n",
              "\n",
              "The following object is masked from ‘package:dplyr’:\n",
              "\n",
              "    select\n",
              "\n"
            ]
          },
          "metadata": {}
        }
      ]
    },
    {
      "cell_type": "code",
      "source": [
        "%%R\n",
        "# Carregando os dados e armazenando dentro da varia´vel \"fifa\"\n",
        "url0 <- 'https://raw.githubusercontent.com/filipezabala/pucrs-tecnologo-bd/main/dados/Anexo_Projeto_fifa_world_national_teams_versa%CC%83o_oficial%2020241.csv'\n",
        "fifa <- read.csv(url0, sep = ';')\n",
        "head(str(fifa))"
      ],
      "metadata": {
        "colab": {
          "base_uri": "https://localhost:8080/"
        },
        "id": "hYlBzHaRSVcc",
        "outputId": "b4aa8d96-c9b8-4a45-8ce7-057fc524a736"
      },
      "execution_count": 6,
      "outputs": [
        {
          "output_type": "stream",
          "name": "stdout",
          "text": [
            "'data.frame':\t718 obs. of  30 variables:\n",
            " $ id                           : int  158023 153079 211110 201399 226226 199667 212616 216816 183892 231478 ...\n",
            " $ name                         : chr  \"Messi\" \"Aguero\" \"Dybala\" \"Icardi\" ...\n",
            " $ full_name                    : chr  \"Lionel Andr\\xe9s Messi Cuccittini\" \"Sergio Leonel Ag\\xfcero del Castillo\" \"Paulo Bruno Exequiel Dybala\" \"Mauro Emanuel Icardi Rivero\" ...\n",
            " $ overall_rating               : int  94 89 89 87 82 77 77 78 79 79 ...\n",
            " $ value_euro                   : int  110500000 64500000 89000000 64500000 30000000 8500000 12000000 15000000 8500000 18000000 ...\n",
            " $ wage_euro                    : int  565000 300000 205000 130000 83000 28000 27000 53000 19000 54000 ...\n",
            " $ nationality                  : chr  \"Argentina\" \"Argentina\" \"Argentina\" \"Argentina\" ...\n",
            " $ national_team                : chr  \"Argentina\" \"Argentina\" \"Argentina\" \"Argentina\" ...\n",
            " $ club_team                    : chr  \"FC Barcelona\" \"Manchester City\" \"Juventus\" \"Inter\" ...\n",
            " $ age                          : int  31 30 25 26 22 28 24 23 31 21 ...\n",
            " $ height_cm                    : int  170 173 152 155 175 185 152 155 155 175 ...\n",
            " $ weight_kgs                   : int  72 70 75 75 70 79 70 81 83 79 ...\n",
            " $ international_reputation.1.5.: int  5 4 3 3 1 2 1 2 1 1 ...\n",
            " $ weak_foot.1.5.               : int  4 4 3 4 3 3 3 3 3 4 ...\n",
            " $ skill_moves.1.5.             : int  4 4 4 3 4 2 4 3 2 4 ...\n",
            " $ club_rating                  : int  86 85 85 82 80 79 75 76 80 82 ...\n",
            " $ Goleiro                      : int  0 0 0 0 0 0 0 0 0 0 ...\n",
            " $ Zagueiro                     : int  0 0 0 0 0 0 0 0 0 0 ...\n",
            " $ Meio                         : int  0 0 0 0 0 0 0 0 0 0 ...\n",
            " $ Atacante                     : int  1 0 1 1 0 0 0 0 0 0 ...\n",
            " $ crossing                     : int  86 70 82 46 75 66 76 40 68 56 ...\n",
            " $ finishing                    : int  95 93 84 91 77 40 68 79 60 82 ...\n",
            " $ heading_accuracy             : int  70 77 68 91 59 79 50 80 76 79 ...\n",
            " $ short_passing                : int  92 81 87 73 82 70 78 68 71 62 ...\n",
            " $ dribbling                    : int  97 89 92 77 84 63 83 76 57 78 ...\n",
            " $ jumping                      : int  68 81 75 94 64 77 58 84 76 81 ...\n",
            " $ strength                     : int  66 73 65 76 69 78 68 72 82 86 ...\n",
            " $ long_shots                   : int  94 83 88 70 76 56 79 66 58 68 ...\n",
            " $ aggression                   : int  48 65 48 56 65 83 56 70 81 74 ...\n",
            " $ GK_reflexes                  : int  8 14 8 9 14 7 14 11 6 13 ...\n",
            "NULL\n"
          ]
        }
      ]
    },
    {
      "cell_type": "code",
      "source": [
        "# 1. Encontre e liste uma variável de cada tipo (qualitativa nominal, qualitativa ordinal, quantitativa discreta e quantitativa contínua);\n",
        "\n",
        "# Variável Qualitativa Nominal == nationality, club_team, name. São variáveis que não possuem ordem entre seus valores.\n",
        "%%R\n",
        "cat(\"Qualitativa Nominal:\\n\")\n",
        "print(head(fifa$nationality, 5))\n",
        "cat(\"----------------------.----------------------.----------------------\\n\")\n",
        "\n",
        "# Variável Qualitativa Ordinal == skill_moves, weak_foot (quando há uma ordem lógica dos valores).\n",
        "cat(\"Qualitativa Ordinal:\\n\")\n",
        "print(head(fifa$skill_moves, 5))\n",
        "cat(\"----------------------.----------------------.----------------------\\n\")\n",
        "\n",
        "# Variável Quantitativa Discreta == age (Valores Numéricos inteiros e contáveis).\n",
        "cat(\"Quantitativa Discreta:\\n\")\n",
        "print(head(fifa$age, 5))\n",
        "cat(\"----------------------.----------------------.----------------------\\n\")\n",
        "\n",
        "# Variável Quantitativa Contínua == height_cm, weight_kgs (Valores Numéricos que podem assumir um intervalo contínuo de possibilidades).\n",
        "cat(\"Quantitativa Contínua:\\n\")\n",
        "print(head(fifa$height_cm, 5))\n",
        "cat(\"----------------------.----------------------.----------------------\\n\")\n"
      ],
      "metadata": {
        "colab": {
          "base_uri": "https://localhost:8080/"
        },
        "id": "oPqdaCr1UdqX",
        "outputId": "0af4f8b3-d4d6-4908-f0a9-90d6c762d01c"
      },
      "execution_count": 7,
      "outputs": [
        {
          "output_type": "stream",
          "name": "stdout",
          "text": [
            "Qualitativa Nominal:\n",
            "[1] \"Argentina\" \"Argentina\" \"Argentina\" \"Argentina\" \"Argentina\"\n",
            "----------------------.----------------------.----------------------\n",
            "Qualitativa Ordinal:\n",
            "[1] 4 4 4 3 4\n",
            "----------------------.----------------------.----------------------\n",
            "Quantitativa Discreta:\n",
            "[1] 31 30 25 26 22\n",
            "----------------------.----------------------.----------------------\n",
            "Quantitativa Contínua:\n",
            "[1] 170 173 152 155 175\n",
            "----------------------.----------------------.----------------------\n"
          ]
        }
      ]
    },
    {
      "cell_type": "code",
      "source": [
        "# 2. Tabelas de frequência para duas variáveis qualitativas;\n",
        "\n",
        "%%R\n",
        "# Função genêrica que criará as tabelas de frequência para qualquer coluna passada por argumento.\n",
        "criar_tabela_frequencia <- function(df, coluna) {\n",
        "  tabela <- as.data.frame(table(df[[coluna]]))\n",
        "  colnames(tabela) <- c(coluna, \"Frequency\")\n",
        "  # Ordenando a tabela com base na frequência.\n",
        "  tabela <- tabela %>% arrange(desc(Frequency))\n",
        "  return(tabela)\n",
        "}\n",
        "\n",
        "# Para ver a tabela completa, basta tirar o head().\n",
        "print(head(criar_tabela_frequencia(fifa, \"nationality\")))\n",
        "print(head(criar_tabela_frequencia(fifa, \"club_team\")))\n"
      ],
      "metadata": {
        "id": "fZ4bkQGbWN0E",
        "outputId": "51baab8b-6191-4401-9dce-862907a911d9",
        "colab": {
          "base_uri": "https://localhost:8080/"
        }
      },
      "execution_count": 21,
      "outputs": [
        {
          "output_type": "stream",
          "name": "stdout",
          "text": [
            "  nationality Frequency\n",
            "1      Brazil        23\n",
            "2     Denmark        23\n",
            "3     England        23\n",
            "4      France        23\n",
            "5     Germany        23\n",
            "6 Netherlands        23\n",
            "          club_team Frequency\n",
            "1 FC Bayern Munchen        14\n",
            "2          Juventus        14\n",
            "3 Tottenham Hotspur        14\n",
            "4            Celtic        12\n",
            "5 Manchester United        12\n",
            "6   Atletico Madrid        11\n"
          ]
        }
      ]
    },
    {
      "cell_type": "code",
      "source": [
        "# 3. Uma tabela com medidas de posição e variabilidade para ao menos 5 variáveis a serem escolhidas;"
      ],
      "metadata": {
        "id": "5g4COn6qWTRX"
      },
      "execution_count": null,
      "outputs": []
    },
    {
      "cell_type": "markdown",
      "source": [],
      "metadata": {
        "id": "2PaYgtE_WTFj"
      }
    },
    {
      "cell_type": "code",
      "source": [
        "# 4. Ao menos dois gráficos criativos para ajudar na visualização de resultados, conforme orientações dadas em aula pelo professor Hélio;"
      ],
      "metadata": {
        "id": "vtosTZ-BWVg6"
      },
      "execution_count": null,
      "outputs": []
    },
    {
      "cell_type": "code",
      "source": [
        "# 5. Um histograma ou gráfico de barra para verificação de adequabilidade do modelo probabilístico para a variável escolhida."
      ],
      "metadata": {
        "id": "iIHhP3ITWXVl"
      },
      "execution_count": null,
      "outputs": []
    }
  ]
}