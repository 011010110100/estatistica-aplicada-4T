{
  "nbformat": 4,
  "nbformat_minor": 0,
  "metadata": {
    "colab": {
      "provenance": [],
      "authorship_tag": "ABX9TyM2pgocneg26Tj2kENj9Grb",
      "include_colab_link": true
    },
    "kernelspec": {
      "name": "python3",
      "display_name": "Python 3"
    },
    "language_info": {
      "name": "python"
    }
  },
  "cells": [
    {
      "cell_type": "markdown",
      "metadata": {
        "id": "view-in-github",
        "colab_type": "text"
      },
      "source": [
        "<a href=\"https://colab.research.google.com/github/011010110100/estatistica-aplicada-4T/blob/main/main.ipynb\" target=\"_parent\"><img src=\"https://colab.research.google.com/assets/colab-badge.svg\" alt=\"Open In Colab\"/></a>"
      ]
    },
    {
      "cell_type": "code",
      "source": [
        "!apt-get install -y r-base\n",
        "%load_ext rpy2.ipython"
      ],
      "metadata": {
        "colab": {
          "base_uri": "https://localhost:8080/"
        },
        "id": "slk7hNPkRjaz",
        "outputId": "107b261e-5487-4c9d-ccb3-f04e409de989"
      },
      "execution_count": 1,
      "outputs": [
        {
          "output_type": "stream",
          "name": "stdout",
          "text": [
            "Reading package lists... Done\n",
            "Building dependency tree... Done\n",
            "Reading state information... Done\n",
            "r-base is already the newest version (4.4.3-1.2204.0).\n",
            "0 upgraded, 0 newly installed, 0 to remove and 29 not upgraded.\n"
          ]
        }
      ]
    },
    {
      "cell_type": "code",
      "source": [
        "# Verificando se o R foi instalado corretamente.\n",
        "%%R\n",
        "x <- c(1, 2, 3, 4, 5)\n",
        "mean(x)"
      ],
      "metadata": {
        "colab": {
          "base_uri": "https://localhost:8080/"
        },
        "id": "hs87qDyiRrih",
        "outputId": "e3dd4ab7-22cc-4ee8-83d9-f789610e1d05"
      },
      "execution_count": 3,
      "outputs": [
        {
          "output_type": "stream",
          "name": "stdout",
          "text": [
            "[1] 3\n"
          ]
        }
      ]
    },
    {
      "cell_type": "code",
      "source": [
        "%%R\n",
        "ini <- Sys.time()\n",
        "install.packages(c('skimr', 'tidyverse'), dependencies = TRUE)\n",
        "Sys.time() - ini\n",
        "library(skimr)\n",
        "library(tidyverse)\n",
        "library(MASS)\n"
      ],
      "metadata": {
        "id": "uawqOBdeRvkk",
        "colab": {
          "base_uri": "https://localhost:8080/",
          "height": 1000
        },
        "outputId": "dd86d688-e98f-4e62-c9a7-a93c340b9594"
      },
      "execution_count": 4,
      "outputs": [
        {
          "output_type": "stream",
          "name": "stdout",
          "text": [
            "── Attaching core tidyverse packages ──────────────────────── tidyverse 2.0.0 ──\n",
            "✔ dplyr     1.1.4     ✔ readr     2.1.5\n",
            "✔ forcats   1.0.0     ✔ stringr   1.5.1\n",
            "✔ ggplot2   3.5.1     ✔ tibble    3.2.1\n",
            "✔ lubridate 1.9.4     ✔ tidyr     1.3.1\n",
            "✔ purrr     1.0.4     \n",
            "── Conflicts ────────────────────────────────────────── tidyverse_conflicts() ──\n",
            "✖ dplyr::filter() masks stats::filter()\n",
            "✖ dplyr::lag()    masks stats::lag()\n",
            "ℹ Use the conflicted package (<http://conflicted.r-lib.org/>) to force all conflicts to become errors\n"
          ]
        },
        {
          "output_type": "display_data",
          "data": {
            "text/plain": [
              "Installing packages into ‘/usr/local/lib/R/site-library’\n",
              "(as ‘lib’ is unspecified)\n",
              "also installing the dependencies ‘lazyeval’, ‘rex’, ‘extrafontdb’, ‘Rttf2pt1’, ‘covr’, ‘extrafont’, ‘feather’, ‘mockr’\n",
              "\n",
              "trying URL 'https://cran.rstudio.com/src/contrib/lazyeval_0.2.2.tar.gz'\n",
              "Content type 'application/x-gzip' length 83482 bytes (81 KB)\n",
              "==================================================\n",
              "downloaded 81 KB\n",
              "\n",
              "trying URL 'https://cran.rstudio.com/src/contrib/rex_1.2.1.tar.gz'\n",
              "Content type 'application/x-gzip' length 93583 bytes (91 KB)\n",
              "==================================================\n",
              "downloaded 91 KB\n",
              "\n",
              "trying URL 'https://cran.rstudio.com/src/contrib/extrafontdb_1.0.tar.gz'\n",
              "Content type 'application/x-gzip' length 1672 bytes\n",
              "==================================================\n",
              "downloaded 1672 bytes\n",
              "\n",
              "trying URL 'https://cran.rstudio.com/src/contrib/Rttf2pt1_1.3.12.tar.gz'\n",
              "Content type 'application/x-gzip' length 221360 bytes (216 KB)\n",
              "==================================================\n",
              "downloaded 216 KB\n",
              "\n",
              "trying URL 'https://cran.rstudio.com/src/contrib/covr_3.6.4.tar.gz'\n",
              "Content type 'application/x-gzip' length 163362 bytes (159 KB)\n",
              "==================================================\n",
              "downloaded 159 KB\n",
              "\n",
              "trying URL 'https://cran.rstudio.com/src/contrib/extrafont_0.19.tar.gz'\n",
              "Content type 'application/x-gzip' length 16533 bytes (16 KB)\n",
              "==================================================\n",
              "downloaded 16 KB\n",
              "\n",
              "trying URL 'https://cran.rstudio.com/src/contrib/feather_0.3.5.tar.gz'\n",
              "Content type 'application/x-gzip' length 73812 bytes (72 KB)\n",
              "==================================================\n",
              "downloaded 72 KB\n",
              "\n",
              "trying URL 'https://cran.rstudio.com/src/contrib/mockr_0.2.1.tar.gz'\n",
              "Content type 'application/x-gzip' length 20956 bytes (20 KB)\n",
              "==================================================\n",
              "downloaded 20 KB\n",
              "\n",
              "trying URL 'https://cran.rstudio.com/src/contrib/skimr_2.1.5.tar.gz'\n",
              "Content type 'application/x-gzip' length 1123025 bytes (1.1 MB)\n",
              "==================================================\n",
              "downloaded 1.1 MB\n",
              "\n",
              "trying URL 'https://cran.rstudio.com/src/contrib/tidyverse_2.0.0.tar.gz'\n",
              "Content type 'application/x-gzip' length 704618 bytes (688 KB)\n",
              "==================================================\n",
              "downloaded 688 KB\n",
              "\n",
              "\n",
              "The downloaded source packages are in\n",
              "\t‘/tmp/RtmpEa10x9/downloaded_packages’\n",
              "\n",
              "Attaching package: ‘MASS’\n",
              "\n",
              "The following object is masked from ‘package:dplyr’:\n",
              "\n",
              "    select\n",
              "\n"
            ]
          },
          "metadata": {}
        }
      ]
    },
    {
      "cell_type": "code",
      "source": [
        "%%R\n",
        "# Carregando os dados e armazenando dentro da varia´vel \"fifa\"\n",
        "url0 <- 'https://raw.githubusercontent.com/filipezabala/pucrs-tecnologo-bd/main/dados/Anexo_Projeto_fifa_world_national_teams_versa%CC%83o_oficial%2020241.csv'\n",
        "fifa <- read.csv(url0, sep = ';')\n",
        "head(str(fifa))"
      ],
      "metadata": {
        "colab": {
          "base_uri": "https://localhost:8080/"
        },
        "id": "hYlBzHaRSVcc",
        "outputId": "b4aa8d96-c9b8-4a45-8ce7-057fc524a736"
      },
      "execution_count": 6,
      "outputs": [
        {
          "output_type": "stream",
          "name": "stdout",
          "text": [
            "'data.frame':\t718 obs. of  30 variables:\n",
            " $ id                           : int  158023 153079 211110 201399 226226 199667 212616 216816 183892 231478 ...\n",
            " $ name                         : chr  \"Messi\" \"Aguero\" \"Dybala\" \"Icardi\" ...\n",
            " $ full_name                    : chr  \"Lionel Andr\\xe9s Messi Cuccittini\" \"Sergio Leonel Ag\\xfcero del Castillo\" \"Paulo Bruno Exequiel Dybala\" \"Mauro Emanuel Icardi Rivero\" ...\n",
            " $ overall_rating               : int  94 89 89 87 82 77 77 78 79 79 ...\n",
            " $ value_euro                   : int  110500000 64500000 89000000 64500000 30000000 8500000 12000000 15000000 8500000 18000000 ...\n",
            " $ wage_euro                    : int  565000 300000 205000 130000 83000 28000 27000 53000 19000 54000 ...\n",
            " $ nationality                  : chr  \"Argentina\" \"Argentina\" \"Argentina\" \"Argentina\" ...\n",
            " $ national_team                : chr  \"Argentina\" \"Argentina\" \"Argentina\" \"Argentina\" ...\n",
            " $ club_team                    : chr  \"FC Barcelona\" \"Manchester City\" \"Juventus\" \"Inter\" ...\n",
            " $ age                          : int  31 30 25 26 22 28 24 23 31 21 ...\n",
            " $ height_cm                    : int  170 173 152 155 175 185 152 155 155 175 ...\n",
            " $ weight_kgs                   : int  72 70 75 75 70 79 70 81 83 79 ...\n",
            " $ international_reputation.1.5.: int  5 4 3 3 1 2 1 2 1 1 ...\n",
            " $ weak_foot.1.5.               : int  4 4 3 4 3 3 3 3 3 4 ...\n",
            " $ skill_moves.1.5.             : int  4 4 4 3 4 2 4 3 2 4 ...\n",
            " $ club_rating                  : int  86 85 85 82 80 79 75 76 80 82 ...\n",
            " $ Goleiro                      : int  0 0 0 0 0 0 0 0 0 0 ...\n",
            " $ Zagueiro                     : int  0 0 0 0 0 0 0 0 0 0 ...\n",
            " $ Meio                         : int  0 0 0 0 0 0 0 0 0 0 ...\n",
            " $ Atacante                     : int  1 0 1 1 0 0 0 0 0 0 ...\n",
            " $ crossing                     : int  86 70 82 46 75 66 76 40 68 56 ...\n",
            " $ finishing                    : int  95 93 84 91 77 40 68 79 60 82 ...\n",
            " $ heading_accuracy             : int  70 77 68 91 59 79 50 80 76 79 ...\n",
            " $ short_passing                : int  92 81 87 73 82 70 78 68 71 62 ...\n",
            " $ dribbling                    : int  97 89 92 77 84 63 83 76 57 78 ...\n",
            " $ jumping                      : int  68 81 75 94 64 77 58 84 76 81 ...\n",
            " $ strength                     : int  66 73 65 76 69 78 68 72 82 86 ...\n",
            " $ long_shots                   : int  94 83 88 70 76 56 79 66 58 68 ...\n",
            " $ aggression                   : int  48 65 48 56 65 83 56 70 81 74 ...\n",
            " $ GK_reflexes                  : int  8 14 8 9 14 7 14 11 6 13 ...\n",
            "NULL\n"
          ]
        }
      ]
    },
    {
      "cell_type": "markdown",
      "source": [
        "# 1. Encontre e liste uma variável de cada tipo (qualitativa nominal, qualitativa ordinal, quantitativa discreta e quantitativa contínua);"
      ],
      "metadata": {
        "id": "_cO1q5GH13zN"
      }
    },
    {
      "cell_type": "code",
      "source": [
        "%%R\n",
        "# Função genérica para exibir informações de variáveis\n",
        "exibir_informacoes <- function(variavel, tipo) {\n",
        "  cat(tipo, \":\\n\")\n",
        "  print(head(variavel, 4))  # Apenas as 5 primeiras linhas\n",
        "  cat(\"------------------------------------------------------------------\\n\")\n",
        "}\n",
        "\n",
        "exibir_informacoes(fifa$club_team,   \"Qualitativa Nominal (club_team)\")\n",
        "exibir_informacoes(fifa$skill_moves, \"Qualitativa Ordinal (skill_moves)\")\n",
        "exibir_informacoes(fifa$age,         \"Quantitativa Discreta (age)\")\n",
        "exibir_informacoes(fifa$height_cm,   \"Quantitativa Contínua (height_cm)\")\n"
      ],
      "metadata": {
        "id": "S8AL2elP2vYq",
        "outputId": "4dc01584-e1eb-4238-c109-f9fbbe9a786d",
        "colab": {
          "base_uri": "https://localhost:8080/"
        }
      },
      "execution_count": 143,
      "outputs": [
        {
          "output_type": "stream",
          "name": "stdout",
          "text": [
            "Qualitativa Nominal (club_team) :\n",
            "[1] \"FC Barcelona\"    \"Manchester City\" \"Juventus\"        \"Inter\"          \n",
            "------------------------------------------------------------------\n",
            "Qualitativa Ordinal (skill_moves) :\n",
            "[1] 4 4 4 3\n",
            "------------------------------------------------------------------\n",
            "Quantitativa Discreta (age) :\n",
            "[1] 31 30 25 26\n",
            "------------------------------------------------------------------\n",
            "Quantitativa Contínua (height_cm) :\n",
            "[1] 170 173 152 155\n",
            "------------------------------------------------------------------\n"
          ]
        }
      ]
    },
    {
      "cell_type": "markdown",
      "source": [
        "# 2. Tabelas de frequência para duas variáveis qualitativas;"
      ],
      "metadata": {
        "id": "vWWLrPrI11fr"
      }
    },
    {
      "cell_type": "code",
      "source": [
        "\n",
        "%%R\n",
        "# Função genêrica que criará as tabelas de frequência para qualquer coluna passada por argumento.\n",
        "criar_tabela_frequencia <- function(df, coluna) {\n",
        "  tabela <- as.data.frame(table(df[[coluna]]))\n",
        "  colnames(tabela) <- c(coluna, \"Frequency\")\n",
        "  # Ordenando a tabela com base na frequência.\n",
        "  tabela <- tabela %>% arrange(desc(Frequency))\n",
        "  return(tabela)\n",
        "}\n",
        "\n",
        "# Para ver a tabela completa, basta tirar o head().\n",
        "print(head(criar_tabela_frequencia(fifa, \"nationality\")))\n",
        "print(head(criar_tabela_frequencia(fifa, \"club_team\")))\n"
      ],
      "metadata": {
        "id": "fZ4bkQGbWN0E",
        "colab": {
          "base_uri": "https://localhost:8080/"
        },
        "outputId": "51baab8b-6191-4401-9dce-862907a911d9"
      },
      "execution_count": 21,
      "outputs": [
        {
          "output_type": "stream",
          "name": "stdout",
          "text": [
            "  nationality Frequency\n",
            "1      Brazil        23\n",
            "2     Denmark        23\n",
            "3     England        23\n",
            "4      France        23\n",
            "5     Germany        23\n",
            "6 Netherlands        23\n",
            "          club_team Frequency\n",
            "1 FC Bayern Munchen        14\n",
            "2          Juventus        14\n",
            "3 Tottenham Hotspur        14\n",
            "4            Celtic        12\n",
            "5 Manchester United        12\n",
            "6   Atletico Madrid        11\n"
          ]
        }
      ]
    },
    {
      "cell_type": "markdown",
      "source": [
        "# 3. Uma tabela com medidas de posição e variabilidade para ao menos 5 variáveis a serem escolhidas;\n",
        "\n",
        "##### **medidas de posição**: Média, Mediana, Moda, Quartis\n",
        "##### **medidas de Variabilidade**: Amplitude, Variância, Desvio Padrão, Coeficiênte de Variação, IQR"
      ],
      "metadata": {
        "id": "OvYBKbJC1lQ9"
      }
    },
    {
      "cell_type": "code",
      "source": [
        "# 3.1 MEDIDAS DE POSIÇÃO (Média, Mediana, Moda, Quartis)\n",
        "\n",
        "# Como não descobri uma forma mais simples de calcular a moda, utilizei uma documentação que apresentou essa função.\n",
        "# Ref. https://www.tutorialspoint.com/r/r_mean_median_mode.htm\n",
        "%%R\n",
        "calcula_moda <- function(v) {\n",
        "   uniqv <- unique(v)\n",
        "   # tabulate -> calcula as freq. e o which.max pega a maior.\n",
        "   uniqv[which.max(tabulate(match(v, uniqv)))]\n",
        "}\n",
        "\n",
        "# Definindo as variáveis para serem feita as análises.\n",
        "variaveis <- c(\"age\", \"overall_rating\", \"height_cm\", \"weight_kgs\", \"strength\")\n",
        "\n",
        "# Função para calcular o resumo estatístico por nacionalidade\n",
        "medidas_posicao <- function(df, variaveis, linhas_tabela) {\n",
        "  resumo <- list()\n",
        "  for (var in variaveis) {\n",
        "    resumo[[var]] <- df %>%\n",
        "      # Agrupando por nacionalidade, para melhor entendimento dos dados.\n",
        "      group_by(.data[[\"nationality\"]]) %>%\n",
        "      summarise(\n",
        "            media   = mean(.data[[var]]),\n",
        "            mediana = median(.data[[var]]),\n",
        "            moda    = calcula_moda (.data[[var]]),\n",
        "            Q1      = quantile(.data[[var]], 0.25),\n",
        "            Q2      = quantile(.data[[var]], 0.50),\n",
        "            Q3      = quantile(.data[[var]], 0.75),\n",
        "      ) %>%\n",
        "      # limitando o tamanho do retorno para facilitar a visualização.\n",
        "      slice_head(n = linhas_tabela)\n",
        "  }\n",
        "  return(resumo)\n",
        "}\n",
        "\n",
        "library(knitr) # Para deixar as tabelas mais bonitas visualmente.\n",
        "print(kable(medidas_posicao(fifa, variaveis, 5)))"
      ],
      "metadata": {
        "id": "5g4COn6qWTRX",
        "colab": {
          "base_uri": "https://localhost:8080/"
        },
        "outputId": "0e39c2ab-d4de-404c-fbd6-9cc2540c5e84"
      },
      "execution_count": 144,
      "outputs": [
        {
          "output_type": "stream",
          "name": "stdout",
          "text": [
            "\n",
            "\n",
            "|nationality |    media| mediana| moda| Q1| Q2|    Q3|\n",
            "|:-----------|--------:|-------:|----:|--:|--:|-----:|\n",
            "|Argentina   | 26.82353|      27|   31| 24| 27| 30.00|\n",
            "|Australia   | 27.07692|      26|   26| 26| 26| 28.00|\n",
            "|Austria     | 26.18750|      26|   26| 24| 26| 28.25|\n",
            "|Belgium     | 27.31579|      27|   26| 25| 27| 30.00|\n",
            "|Brazil      | 30.47826|      31|   31| 27| 31| 31.00|\n",
            "\n",
            "|nationality |    media| mediana| moda| Q1| Q2|    Q3|\n",
            "|:-----------|--------:|-------:|----:|--:|--:|-----:|\n",
            "|Argentina   | 82.11765|      80|   80| 79| 80| 84.00|\n",
            "|Australia   | 72.30769|      73|   72| 71| 73| 74.00|\n",
            "|Austria     | 77.18750|      77|   75| 75| 77| 78.25|\n",
            "|Belgium     | 83.42105|      83|   87| 79| 83| 87.00|\n",
            "|Brazil      | 79.82609|      79|   79| 78| 79| 82.00|\n",
            "\n",
            "|nationality |    media| mediana| moda|     Q1|  Q2|  Q3|\n",
            "|:-----------|--------:|-------:|----:|------:|---:|---:|\n",
            "|Argentina   | 170.7059|     173|  155| 155.00| 173| 183|\n",
            "|Australia   | 172.6154|     175|  183| 155.00| 175| 183|\n",
            "|Austria     | 176.2500|     184|  152| 154.25| 184| 188|\n",
            "|Belgium     | 184.3684|     188|  188| 179.00| 188| 191|\n",
            "|Brazil      | 172.6522|     175|  175| 153.50| 175| 185|\n",
            "\n",
            "|nationality |    media| mediana| moda|    Q1|   Q2| Q3|\n",
            "|:-----------|--------:|-------:|----:|-----:|----:|--:|\n",
            "|Argentina   | 76.47059|    77.0|   70| 72.00| 77.0| 81|\n",
            "|Australia   | 77.46154|    76.0|   82| 73.00| 76.0| 82|\n",
            "|Austria     | 80.93750|    81.5|   83| 75.75| 81.5| 86|\n",
            "|Belgium     | 80.73684|    81.0|   86| 76.00| 81.0| 86|\n",
            "|Brazil      | 76.30435|    75.0|   75| 71.50| 75.0| 81|\n",
            "\n",
            "|nationality |    media| mediana| moda|   Q1| Q2|    Q3|\n",
            "|:-----------|--------:|-------:|----:|----:|--:|-----:|\n",
            "|Argentina   | 72.64706|      72|   69| 68.0| 72| 78.00|\n",
            "|Australia   | 68.46154|      70|   70| 68.0| 70| 76.00|\n",
            "|Austria     | 74.62500|      77|   84| 67.5| 77| 80.75|\n",
            "|Belgium     | 74.94737|      78|   79| 69.5| 78| 82.50|\n",
            "|Brazil      | 69.43478|      68|   68| 61.0| 68| 80.00|\n"
          ]
        }
      ]
    },
    {
      "source": [
        "# 3.2 medidas de Variabilidade: Amplitude, Variância, Desvio Padrão, Coeficiênte de Variação, IQR\n",
        "\n",
        "%%R\n",
        "# Função para calcular as medidas de variabilidade\n",
        "calcular_variabilidade <- function(df, variaveis) {\n",
        "  resumo_variabilidade <- list()\n",
        "\n",
        "  for (var in variaveis) {\n",
        "    resumo_variabilidade[[var]] <- df %>%\n",
        "      group_by(.data[[\"nationality\"]]) %>%\n",
        "      summarise(\n",
        "        Amplitude = max(.data[[var]], na.rm = TRUE) - min(.data[[var]], na.rm = TRUE),\n",
        "        Variancia = var(.data[[var]], na.rm = TRUE),\n",
        "        Desvio_Padrao = sd(.data[[var]], na.rm = TRUE),\n",
        "        Coeficiente_Variacao = (sd(.data[[var]], na.rm = TRUE) / mean(.data[[var]], na.rm = TRUE)) * 100,\n",
        "        IQR = IQR(.data[[var]], na.rm = TRUE)\n",
        "      )\n",
        "  }\n",
        "\n",
        "  return(resumo_variabilidade)\n",
        "}\n",
        "\n",
        "# Definindo as variáveis para as análises\n",
        "variaveis_variabilidade <- c(\"age\", \"overall_rating\", \"height_cm\", \"weight_kgs\", \"strength\")\n",
        "\n",
        "variabilidade_resultado <- calcular_variabilidade(fifa, variaveis_variabilidade)\n",
        "\n",
        "head(variabilidade_resultado$age)"
      ],
      "cell_type": "code",
      "metadata": {
        "id": "p6Kgj67ouw1T",
        "outputId": "3306e26c-0523-4486-cf3b-c9b9ebc4157a",
        "colab": {
          "base_uri": "https://localhost:8080/"
        }
      },
      "execution_count": 151,
      "outputs": [
        {
          "output_type": "stream",
          "name": "stdout",
          "text": [
            "# A tibble: 6 × 6\n",
            "  nationality Amplitude Variancia Desvio_Padrao Coeficiente_Variacao   IQR\n",
            "  <chr>           <int>     <dbl>         <dbl>                <dbl> <dbl>\n",
            "1 Argentina          11     11.5           3.40                12.7   6   \n",
            "2 Australia          12     11.9           3.45                12.7   2   \n",
            "3 Austria             9      7.36          2.71                10.4   4.25\n",
            "4 Belgium            12     10.6           3.25                11.9   5   \n",
            "5 Brazil              8      9.17          3.03                 9.94  4   \n",
            "6 Bulgaria            7     14.3           3.79                16.0   3.5 \n"
          ]
        }
      ]
    },
    {
      "cell_type": "code",
      "source": [
        "\n"
      ],
      "metadata": {
        "id": "jXmkdhhBonW4",
        "outputId": "7cde71ba-ea38-4f21-d131-07b617286cf7",
        "colab": {
          "base_uri": "https://localhost:8080/"
        }
      },
      "execution_count": 81,
      "outputs": [
        {
          "output_type": "stream",
          "name": "stderr",
          "text": [
            "UsageError: %%R is a cell magic, but the cell body is empty. Did you mean the line magic %R (single %)?\n"
          ]
        }
      ]
    },
    {
      "cell_type": "markdown",
      "source": [],
      "metadata": {
        "id": "2PaYgtE_WTFj"
      }
    },
    {
      "cell_type": "code",
      "source": [
        "# 4. Ao menos dois gráficos criativos para ajudar na visualização de resultados, conforme orientações dadas em aula pelo professor Hélio;"
      ],
      "metadata": {
        "id": "vtosTZ-BWVg6"
      },
      "execution_count": null,
      "outputs": []
    },
    {
      "cell_type": "code",
      "source": [
        "# 5. Um histograma ou gráfico de barra para verificação de adequabilidade do modelo probabilístico para a variável escolhida."
      ],
      "metadata": {
        "id": "iIHhP3ITWXVl"
      },
      "execution_count": null,
      "outputs": []
    }
  ]
}