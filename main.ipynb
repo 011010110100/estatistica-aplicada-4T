{
  "nbformat": 4,
  "nbformat_minor": 0,
  "metadata": {
    "colab": {
      "provenance": [],
      "authorship_tag": "ABX9TyOQbrzoPruvd7YzZK47oT5z",
      "include_colab_link": true
    },
    "kernelspec": {
      "name": "python3",
      "display_name": "Python 3"
    },
    "language_info": {
      "name": "python"
    }
  },
  "cells": [
    {
      "cell_type": "markdown",
      "metadata": {
        "id": "view-in-github",
        "colab_type": "text"
      },
      "source": [
        "<a href=\"https://colab.research.google.com/github/011010110100/estatistica-aplicada-4T/blob/main/main.ipynb\" target=\"_parent\"><img src=\"https://colab.research.google.com/assets/colab-badge.svg\" alt=\"Open In Colab\"/></a>"
      ]
    },
    {
      "cell_type": "code",
      "source": [
        "!apt-get install -y r-base\n",
        "%load_ext rpy2.ipython"
      ],
      "metadata": {
        "colab": {
          "base_uri": "https://localhost:8080/"
        },
        "id": "slk7hNPkRjaz",
        "outputId": "04caca4d-397e-453a-8a8c-9f20dbc899dd",
        "collapsed": true
      },
      "execution_count": 25,
      "outputs": [
        {
          "output_type": "stream",
          "name": "stdout",
          "text": [
            "Reading package lists... Done\n",
            "Building dependency tree... Done\n",
            "Reading state information... Done\n",
            "r-base is already the newest version (4.4.3-1.2204.0).\n",
            "0 upgraded, 0 newly installed, 0 to remove and 29 not upgraded.\n",
            "The rpy2.ipython extension is already loaded. To reload it, use:\n",
            "  %reload_ext rpy2.ipython\n"
          ]
        }
      ]
    },
    {
      "cell_type": "code",
      "source": [
        "# Verificando se o R foi instalado corretamente.\n",
        "%%R\n",
        "x <- c(1, 2, 3, 4, 5)\n",
        "mean(x)"
      ],
      "metadata": {
        "colab": {
          "base_uri": "https://localhost:8080/"
        },
        "id": "hs87qDyiRrih",
        "outputId": "9de76b5b-6ad3-4038-d8f2-e06ffe5d000d"
      },
      "execution_count": 27,
      "outputs": [
        {
          "output_type": "stream",
          "name": "stdout",
          "text": [
            "[1] 3\n"
          ]
        }
      ]
    },
    {
      "cell_type": "code",
      "source": [
        "%%R\n",
        "ini <- Sys.time()\n",
        "install.packages(c('skimr', 'tidyverse'), dependencies = TRUE)\n",
        "Sys.time() - ini\n",
        "library(skimr)\n",
        "library(tidyverse)\n",
        "library(MASS)\n"
      ],
      "metadata": {
        "id": "uawqOBdeRvkk",
        "collapsed": true
      },
      "execution_count": null,
      "outputs": []
    },
    {
      "cell_type": "code",
      "source": [
        "%%R\n",
        "# Carregando os dados e armazenando dentro da varia´vel \"fifa\"\n",
        "url0 <- 'https://raw.githubusercontent.com/filipezabala/pucrs-tecnologo-bd/main/dados/Anexo_Projeto_fifa_world_national_teams_versa%CC%83o_oficial%2020241.csv'\n",
        "fifa <- read.csv(url0, sep = ';')\n",
        "head(str(fifa))"
      ],
      "metadata": {
        "colab": {
          "base_uri": "https://localhost:8080/"
        },
        "id": "hYlBzHaRSVcc",
        "outputId": "82a56631-0c22-446b-fc0c-83f754787203"
      },
      "execution_count": 5,
      "outputs": [
        {
          "output_type": "stream",
          "name": "stdout",
          "text": [
            "'data.frame':\t718 obs. of  30 variables:\n",
            " $ id                           : int  158023 153079 211110 201399 226226 199667 212616 216816 183892 231478 ...\n",
            " $ name                         : chr  \"Messi\" \"Aguero\" \"Dybala\" \"Icardi\" ...\n",
            " $ full_name                    : chr  \"Lionel Andr\\xe9s Messi Cuccittini\" \"Sergio Leonel Ag\\xfcero del Castillo\" \"Paulo Bruno Exequiel Dybala\" \"Mauro Emanuel Icardi Rivero\" ...\n",
            " $ overall_rating               : int  94 89 89 87 82 77 77 78 79 79 ...\n",
            " $ value_euro                   : int  110500000 64500000 89000000 64500000 30000000 8500000 12000000 15000000 8500000 18000000 ...\n",
            " $ wage_euro                    : int  565000 300000 205000 130000 83000 28000 27000 53000 19000 54000 ...\n",
            " $ nationality                  : chr  \"Argentina\" \"Argentina\" \"Argentina\" \"Argentina\" ...\n",
            " $ national_team                : chr  \"Argentina\" \"Argentina\" \"Argentina\" \"Argentina\" ...\n",
            " $ club_team                    : chr  \"FC Barcelona\" \"Manchester City\" \"Juventus\" \"Inter\" ...\n",
            " $ age                          : int  31 30 25 26 22 28 24 23 31 21 ...\n",
            " $ height_cm                    : int  170 173 152 155 175 185 152 155 155 175 ...\n",
            " $ weight_kgs                   : int  72 70 75 75 70 79 70 81 83 79 ...\n",
            " $ international_reputation.1.5.: int  5 4 3 3 1 2 1 2 1 1 ...\n",
            " $ weak_foot.1.5.               : int  4 4 3 4 3 3 3 3 3 4 ...\n",
            " $ skill_moves.1.5.             : int  4 4 4 3 4 2 4 3 2 4 ...\n",
            " $ club_rating                  : int  86 85 85 82 80 79 75 76 80 82 ...\n",
            " $ Goleiro                      : int  0 0 0 0 0 0 0 0 0 0 ...\n",
            " $ Zagueiro                     : int  0 0 0 0 0 0 0 0 0 0 ...\n",
            " $ Meio                         : int  0 0 0 0 0 0 0 0 0 0 ...\n",
            " $ Atacante                     : int  1 0 1 1 0 0 0 0 0 0 ...\n",
            " $ crossing                     : int  86 70 82 46 75 66 76 40 68 56 ...\n",
            " $ finishing                    : int  95 93 84 91 77 40 68 79 60 82 ...\n",
            " $ heading_accuracy             : int  70 77 68 91 59 79 50 80 76 79 ...\n",
            " $ short_passing                : int  92 81 87 73 82 70 78 68 71 62 ...\n",
            " $ dribbling                    : int  97 89 92 77 84 63 83 76 57 78 ...\n",
            " $ jumping                      : int  68 81 75 94 64 77 58 84 76 81 ...\n",
            " $ strength                     : int  66 73 65 76 69 78 68 72 82 86 ...\n",
            " $ long_shots                   : int  94 83 88 70 76 56 79 66 58 68 ...\n",
            " $ aggression                   : int  48 65 48 56 65 83 56 70 81 74 ...\n",
            " $ GK_reflexes                  : int  8 14 8 9 14 7 14 11 6 13 ...\n",
            "NULL\n"
          ]
        }
      ]
    },
    {
      "cell_type": "markdown",
      "source": [
        "# 1. Encontre e liste uma variável de cada tipo (qualitativa nominal, qualitativa ordinal, quantitativa discreta e quantitativa contínua);"
      ],
      "metadata": {
        "id": "_cO1q5GH13zN"
      }
    },
    {
      "cell_type": "code",
      "source": [
        "%%R\n",
        "# Função genérica para exibir informações de variáveis\n",
        "exibir_informacoes <- function(variavel, tipo) {\n",
        "  cat(tipo, \":\\n\")\n",
        "  print(head(variavel, 4))  # Apenas as 4 primeiras linhas\n",
        "  cat(\"------------------------------------------------------------------\\n\")\n",
        "}\n",
        "\n",
        "exibir_informacoes(fifa$club_team,   \"Qualitativa Nominal (club_team)\")\n",
        "exibir_informacoes(fifa$skill_moves, \"Qualitativa Ordinal (skill_moves)\")\n",
        "exibir_informacoes(fifa$age,         \"Quantitativa Discreta (age)\")\n",
        "exibir_informacoes(fifa$height_cm,   \"Quantitativa Contínua (height_cm)\")\n"
      ],
      "metadata": {
        "colab": {
          "base_uri": "https://localhost:8080/"
        },
        "id": "S8AL2elP2vYq",
        "outputId": "ecf9c16b-e857-42be-b750-58800e406076"
      },
      "execution_count": 6,
      "outputs": [
        {
          "output_type": "stream",
          "name": "stdout",
          "text": [
            "Qualitativa Nominal (club_team) :\n",
            "[1] \"FC Barcelona\"    \"Manchester City\" \"Juventus\"        \"Inter\"          \n",
            "------------------------------------------------------------------\n",
            "Qualitativa Ordinal (skill_moves) :\n",
            "[1] 4 4 4 3\n",
            "------------------------------------------------------------------\n",
            "Quantitativa Discreta (age) :\n",
            "[1] 31 30 25 26\n",
            "------------------------------------------------------------------\n",
            "Quantitativa Contínua (height_cm) :\n",
            "[1] 170 173 152 155\n",
            "------------------------------------------------------------------\n"
          ]
        }
      ]
    },
    {
      "cell_type": "markdown",
      "source": [
        "# 2. Tabelas de frequência para duas variáveis qualitativas;"
      ],
      "metadata": {
        "id": "vWWLrPrI11fr"
      }
    },
    {
      "cell_type": "code",
      "source": [
        "\n",
        "%%R\n",
        "# Função genêrica que criará as tabelas de frequência para qualquer coluna passada por argumento.\n",
        "criar_tabela_frequencia <- function(df, coluna) {\n",
        "  tabela <- as.data.frame(table(df[[coluna]]))\n",
        "  colnames(tabela) <- c(coluna, \"Frequency\")\n",
        "  # Ordenando a tabela com base na frequência.\n",
        "  tabela <- tabela %>% arrange(desc(Frequency))\n",
        "  return(tabela)\n",
        "}\n",
        "\n",
        "# Para ver a tabela completa, basta tirar o head().\n",
        "print(head(criar_tabela_frequencia(fifa, \"nationality\")))\n",
        "print(head(criar_tabela_frequencia(fifa, \"club_team\")))\n"
      ],
      "metadata": {
        "id": "fZ4bkQGbWN0E",
        "colab": {
          "base_uri": "https://localhost:8080/"
        },
        "outputId": "92e010cd-4b4f-451d-ed3e-103588807ec3"
      },
      "execution_count": 7,
      "outputs": [
        {
          "output_type": "stream",
          "name": "stdout",
          "text": [
            "  nationality Frequency\n",
            "1      Brazil        23\n",
            "2     Denmark        23\n",
            "3     England        23\n",
            "4      France        23\n",
            "5     Germany        23\n",
            "6 Netherlands        23\n",
            "          club_team Frequency\n",
            "1 FC Bayern Munchen        14\n",
            "2          Juventus        14\n",
            "3 Tottenham Hotspur        14\n",
            "4            Celtic        12\n",
            "5 Manchester United        12\n",
            "6   Atletico Madrid        11\n"
          ]
        }
      ]
    },
    {
      "cell_type": "markdown",
      "source": [
        "# 3. Uma tabela com medidas de posição e variabilidade para ao menos 5 variáveis a serem escolhidas;\n",
        "\n",
        "##### **medidas de posição**: Média, Mediana, Moda, Quartis\n",
        "##### **medidas de Variabilidade**: Amplitude, Variância, Desvio Padrão, Coeficiênte de Variação, IQR"
      ],
      "metadata": {
        "id": "OvYBKbJC1lQ9"
      }
    },
    {
      "cell_type": "code",
      "source": [
        "# 3.1 MEDIDAS DE POSIÇÃO (Média, Mediana, Moda, Quartis)\n",
        "\n",
        "# Como não descobri uma forma mais simples de calcular a moda, utilizei uma documentação que apresentou essa função.\n",
        "# Ref. https://www.tutorialspoint.com/r/r_mean_median_mode.htm\n",
        "%%R\n",
        "calcula_moda <- function(v) {\n",
        "   uniqv <- unique(v)\n",
        "   # tabulate -> calcula as freq. e o which.max pega a maior.\n",
        "   uniqv[which.max(tabulate(match(v, uniqv)))]\n",
        "}\n",
        "\n",
        "# Definindo as 5 variáveis para serem feita as análises.\n",
        "variaveis <- c(\"age\", \"overall_rating\", \"height_cm\", \"weight_kgs\", \"strength\")\n",
        "\n",
        "# Função para calcular o resumo estatístico por nacionalidade\n",
        "medidas_posicao <- function(df, variaveis, linhas_tabela) {\n",
        "  resumo <- list()\n",
        "  for (var in variaveis) {\n",
        "    resumo[[var]] <- df %>%\n",
        "      # Agrupando por nacionalidade, para melhor entendimento dos dados.\n",
        "      group_by(.data[[\"nationality\"]]) %>%\n",
        "      summarise(\n",
        "            media   = mean(.data[[var]]),\n",
        "            mediana = median(.data[[var]]),\n",
        "            moda    = calcula_moda (.data[[var]]),\n",
        "            Q1      = quantile(.data[[var]], 0.25),\n",
        "            Q2      = quantile(.data[[var]], 0.50),\n",
        "            Q3      = quantile(.data[[var]], 0.75),\n",
        "      ) %>%\n",
        "      # limitando o tamanho do retorno para facilitar a visualização.\n",
        "      slice_head(n = linhas_tabela)\n",
        "  }\n",
        "  return(resumo)\n",
        "}\n",
        "\n",
        "library(knitr)\n",
        "resultado <- medidas_posicao(fifa, variaveis, 5)\n",
        "\n",
        "for (var in names(resultado)) {\n",
        "  cat(\"\\n### Medidas de Posição para:\", var)\n",
        "  print(kable(resultado[[var]]))\n",
        "}"
      ],
      "metadata": {
        "id": "5g4COn6qWTRX",
        "colab": {
          "base_uri": "https://localhost:8080/"
        },
        "outputId": "2c7e4aac-2187-4467-aaad-5ce48a500eb2"
      },
      "execution_count": 22,
      "outputs": [
        {
          "output_type": "stream",
          "name": "stdout",
          "text": [
            "\n",
            "### Medidas de Posição para: age\n",
            "\n",
            "|nationality |    media| mediana| moda| Q1| Q2|    Q3|\n",
            "|:-----------|--------:|-------:|----:|--:|--:|-----:|\n",
            "|Argentina   | 26.82353|      27|   31| 24| 27| 30.00|\n",
            "|Australia   | 27.07692|      26|   26| 26| 26| 28.00|\n",
            "|Austria     | 26.18750|      26|   26| 24| 26| 28.25|\n",
            "|Belgium     | 27.31579|      27|   26| 25| 27| 30.00|\n",
            "|Brazil      | 30.47826|      31|   31| 27| 31| 31.00|\n",
            "\n",
            "### Medidas de Posição para: overall_rating\n",
            "\n",
            "|nationality |    media| mediana| moda| Q1| Q2|    Q3|\n",
            "|:-----------|--------:|-------:|----:|--:|--:|-----:|\n",
            "|Argentina   | 82.11765|      80|   80| 79| 80| 84.00|\n",
            "|Australia   | 72.30769|      73|   72| 71| 73| 74.00|\n",
            "|Austria     | 77.18750|      77|   75| 75| 77| 78.25|\n",
            "|Belgium     | 83.42105|      83|   87| 79| 83| 87.00|\n",
            "|Brazil      | 79.82609|      79|   79| 78| 79| 82.00|\n",
            "\n",
            "### Medidas de Posição para: height_cm\n",
            "\n",
            "|nationality |    media| mediana| moda|     Q1|  Q2|  Q3|\n",
            "|:-----------|--------:|-------:|----:|------:|---:|---:|\n",
            "|Argentina   | 170.7059|     173|  155| 155.00| 173| 183|\n",
            "|Australia   | 172.6154|     175|  183| 155.00| 175| 183|\n",
            "|Austria     | 176.2500|     184|  152| 154.25| 184| 188|\n",
            "|Belgium     | 184.3684|     188|  188| 179.00| 188| 191|\n",
            "|Brazil      | 172.6522|     175|  175| 153.50| 175| 185|\n",
            "\n",
            "### Medidas de Posição para: weight_kgs\n",
            "\n",
            "|nationality |    media| mediana| moda|    Q1|   Q2| Q3|\n",
            "|:-----------|--------:|-------:|----:|-----:|----:|--:|\n",
            "|Argentina   | 76.47059|    77.0|   70| 72.00| 77.0| 81|\n",
            "|Australia   | 77.46154|    76.0|   82| 73.00| 76.0| 82|\n",
            "|Austria     | 80.93750|    81.5|   83| 75.75| 81.5| 86|\n",
            "|Belgium     | 80.73684|    81.0|   86| 76.00| 81.0| 86|\n",
            "|Brazil      | 76.30435|    75.0|   75| 71.50| 75.0| 81|\n",
            "\n",
            "### Medidas de Posição para: strength\n",
            "\n",
            "|nationality |    media| mediana| moda|   Q1| Q2|    Q3|\n",
            "|:-----------|--------:|-------:|----:|----:|--:|-----:|\n",
            "|Argentina   | 72.64706|      72|   69| 68.0| 72| 78.00|\n",
            "|Australia   | 68.46154|      70|   70| 68.0| 70| 76.00|\n",
            "|Austria     | 74.62500|      77|   84| 67.5| 77| 80.75|\n",
            "|Belgium     | 74.94737|      78|   79| 69.5| 78| 82.50|\n",
            "|Brazil      | 69.43478|      68|   68| 61.0| 68| 80.00|\n",
            "[1] \"oi\"\n"
          ]
        }
      ]
    },
    {
      "source": [
        "# 3.2 medidas de Variabilidade: Amplitude, Variância, Desvio Padrão, Coeficiênte de Variação, IQR\n",
        "\n",
        "%%R\n",
        "library(knitr)\n",
        "\n",
        "# Função para calcular as medidas de variabilidade\n",
        "calcular_variabilidade <- function(df, variaveis) {\n",
        "  resumo_variabilidade <- list()\n",
        "  for (var in variaveis) {\n",
        "    resumo_variabilidade[[var]] <- df %>%\n",
        "      group_by(.data[[\"nationality\"]]) %>%\n",
        "      summarise(\n",
        "        Amplitude = max(.data[[var]]) - min(.data[[var]]),\n",
        "        Variancia = var(.data[[var]]),\n",
        "        Desvio_Padrao = sd(.data[[var]]),\n",
        "        Coeficiente_Variacao = (sd(.data[[var]]) / mean(.data[[var]])) * 100,\n",
        "        IQR = IQR(.data[[var]])\n",
        "      ) %>%\n",
        "      slice_head(n = 5)\n",
        "  }\n",
        "  return(resumo_variabilidade)\n",
        "}\n",
        "\n",
        "# Definindo as variáveis para as análises\n",
        "variaveis_variabilidade <- c(\"age\", \"overall_rating\", \"height_cm\", \"weight_kgs\", \"strength\")\n",
        "variabilidade_resultado <- calcular_variabilidade(fifa, variaveis_variabilidade)\n",
        "\n",
        "# Exibindo as tabelas + Título para saber qual o parâmetro.\n",
        "for (var in names(variabilidade_resultado)) {\n",
        "  cat(\"\\n### Medidas de Variabilidade para:\", var)\n",
        "  print(kable(variabilidade_resultado[[var]]))\n",
        "}\n"
      ],
      "cell_type": "code",
      "metadata": {
        "colab": {
          "base_uri": "https://localhost:8080/"
        },
        "id": "p6Kgj67ouw1T",
        "outputId": "3dc79794-11df-4b94-98e0-b41bf541e210"
      },
      "execution_count": 16,
      "outputs": [
        {
          "output_type": "stream",
          "name": "stdout",
          "text": [
            "\n",
            "### Medidas de Variabilidade para: age\n",
            "\n",
            "|nationality | Amplitude| Variancia| Desvio_Padrao| Coeficiente_Variacao|  IQR|\n",
            "|:-----------|---------:|---------:|-------------:|--------------------:|----:|\n",
            "|Argentina   |        11| 11.529412|      3.395499|            12.658658| 6.00|\n",
            "|Australia   |        12| 11.910256|      3.451124|            12.745628| 2.00|\n",
            "|Austria     |         9|  7.362500|      2.713393|            10.361404| 4.25|\n",
            "|Belgium     |        12| 10.561404|      3.249831|            11.897263| 5.00|\n",
            "|Brazil      |         8|  9.169961|      3.028194|             9.935587| 4.00|\n",
            "\n",
            "### Medidas de Variabilidade para: overall_rating\n",
            "\n",
            "|nationality | Amplitude| Variancia| Desvio_Padrao| Coeficiente_Variacao|  IQR|\n",
            "|:-----------|---------:|---------:|-------------:|--------------------:|----:|\n",
            "|Argentina   |        17| 23.485294|      4.846163|             5.901488| 5.00|\n",
            "|Australia   |        15| 16.730769|      4.090326|             5.656834| 3.00|\n",
            "|Austria     |        10|  9.229167|      3.037954|             3.935811| 3.25|\n",
            "|Belgium     |        14| 21.146199|      4.598500|             5.512397| 8.00|\n",
            "|Brazil      |        17| 13.332016|      3.651303|             4.574073| 4.00|\n",
            "\n",
            "### Medidas de Variabilidade para: height_cm\n",
            "\n",
            "|nationality | Amplitude| Variancia| Desvio_Padrao| Coeficiente_Variacao|   IQR|\n",
            "|:-----------|---------:|---------:|-------------:|--------------------:|-----:|\n",
            "|Argentina   |        41|  193.3456|      13.90488|             8.145517| 28.00|\n",
            "|Australia   |        36|  219.7564|      14.82418|             8.587985| 28.00|\n",
            "|Austria     |        44|  294.3333|      17.15615|             9.733983| 33.75|\n",
            "|Belgium     |        43|  114.9123|      10.71971|             5.814290| 12.00|\n",
            "|Brazil      |        39|  220.6917|      14.85570|             8.604407| 31.50|\n",
            "\n",
            "### Medidas de Variabilidade para: weight_kgs\n",
            "\n",
            "|nationality | Amplitude| Variancia| Desvio_Padrao| Coeficiente_Variacao|   IQR|\n",
            "|:-----------|---------:|---------:|-------------:|--------------------:|-----:|\n",
            "|Argentina   |        22|  32.76471|      5.724046|             7.485291|  9.00|\n",
            "|Australia   |        36|  82.10256|      9.061046|            11.697478|  9.00|\n",
            "|Austria     |        27|  51.92917|      7.206189|             8.903400| 10.25|\n",
            "|Belgium     |        35|  78.42690|      8.855896|            10.968842| 10.00|\n",
            "|Brazil      |        25|  44.58498|      6.677199|             8.750744|  9.50|\n",
            "\n",
            "### Medidas de Variabilidade para: strength\n",
            "\n",
            "|nationality | Amplitude| Variancia| Desvio_Padrao| Coeficiente_Variacao|   IQR|\n",
            "|:-----------|---------:|---------:|-------------:|--------------------:|-----:|\n",
            "|Argentina   |        23|  50.74265|      7.123387|             9.805472| 10.00|\n",
            "|Australia   |        34| 113.76923|     10.666266|            15.579939|  8.00|\n",
            "|Austria     |        33|  85.05000|      9.222256|            12.358132| 13.25|\n",
            "|Belgium     |        52| 143.60819|     11.983663|            15.989439| 13.00|\n",
            "|Brazil      |        40| 136.34783|     11.676807|            16.816942| 19.00|\n"
          ]
        }
      ]
    },
    {
      "cell_type": "markdown",
      "source": [
        "# 4. Ao menos dois gráficos criativos para ajudar na visualização de resultados, conforme orientações dadas em aula pelo professor Hélio;"
      ],
      "metadata": {
        "id": "RlaCk7OldKua"
      }
    },
    {
      "cell_type": "code",
      "source": [
        "# 4.1 - Primeiro gráfico, comparando overall_rating por cada posição (atacante, goleiro, medio, zagueiro)\n",
        "%%R\n",
        "fifa %>%\n",
        "  # pivot_longer -> transforma colunas em linhas; names_to => nova coluna\n",
        "  pivot_longer(cols = c(Goleiro, Zagueiro, Meio, Atacante), names_to = \"Posicao\", values_to = \"Valor\") %>%\n",
        "  # quanto a posição == 1 indica que o jogador atua naquela posição. Logo vamos filtrar todos que possuam 1\n",
        "  filter(Valor == 1) %>%\n",
        "\n",
        "  # Criando o gráfico\n",
        "  # aes -> aesthetics; definição da estética do gráfico.\n",
        "  ggplot(aes(x = Posicao, y = overall_rating, fill = Posicao)) +\n",
        "  # Adicionando o boxplot para cada overal_rating por posição\n",
        "  geom_boxplot() +\n",
        "  # Adicionando títulos e rótulos.\n",
        "  labs(title = \"Distribuição de Overall Rating por Posição\", x = \"Posição\", y = \"Overall Rating\")"
      ],
      "metadata": {
        "id": "vtosTZ-BWVg6",
        "colab": {
          "base_uri": "https://localhost:8080/",
          "height": 497
        },
        "outputId": "9dd30489-a437-42e9-c5c9-21802b96d317"
      },
      "execution_count": 54,
      "outputs": [
        {
          "output_type": "display_data",
          "data": {
            "image/png": "[encoded data removed]",
            "text/plain": [
              "<IPython.core.display.Image object>"
            ]
          },
          "metadata": {}
        }
      ]
    },
    {
      "cell_type": "code",
      "source": [
        "#4.2 Comparando a Altura por cada posição\n",
        "%%R\n",
        "fifa %>%\n",
        "  pivot_longer(cols = c(Goleiro, Zagueiro, Meio, Atacante), names_to = \"Posicao\", values_to = \"Valor\") %>%\n",
        "  filter(Valor == 1) %>%\n",
        "  ggplot(aes(x = Posicao, y = height_cm, fill = Posicao)) +\n",
        "  geom_boxplot() +\n",
        "  labs(title = \"Altura dos Jogadores por Posição\", x = \"Posição\", y = \"Altura\")\n",
        "\n",
        "# Podemos ver uma grande diferença nesse gráfico baseado na posição, o que faz sentido. A posição de goleiro apresenta as maiores alturas,\n",
        "# se torna bem fácil visualizar isso quando se entende da ideia do boxplot."
      ],
      "metadata": {
        "id": "74d59uSdgahI",
        "outputId": "1156779c-2b84-4df9-a811-541fe1b86bd0",
        "colab": {
          "base_uri": "https://localhost:8080/",
          "height": 497
        }
      },
      "execution_count": 53,
      "outputs": [
        {
          "output_type": "display_data",
          "data": {
            "image/png": "[encoded data removed]",
            "text/plain": [
              "<IPython.core.display.Image object>"
            ]
          },
          "metadata": {}
        }
      ]
    },
    {
      "cell_type": "markdown",
      "source": [
        "# 5. Um histograma ou gráfico de barra para verificação de adequabilidade do modelo probabilístico para a variável escolhida."
      ],
      "metadata": {
        "id": "39Es5o1Ljtpj"
      }
    },
    {
      "cell_type": "code",
      "source": [
        "# A coluna escolhida foi a \"age\", e montar um histograma.\n",
        "\n",
        "%%R\n",
        "fifa %>%\n",
        "  ggplot(aes(x = age)) +\n",
        "  # binwidth -> são as larguras dos intervalos. Irei definir como 2 anos.\n",
        "  geom_histogram(binwidth = 2, color = \"black\", fill = \"lightblue\", alpha = 0.7) +\n",
        "  labs(title = \"Distribuição da Idade dos Jogadores\",x = \"Idade\", y = \"Frequência\")\n",
        "\n",
        "# Podemos analisar claramente que os dados se encaixam muito bem em uma curva Normal.\n",
        "# O diagrama mostra uma distribuição aproximadamente simétrica."
      ],
      "metadata": {
        "id": "8TJOUepji9re",
        "outputId": "14e818f2-da64-43b3-be94-a691dac9c93f",
        "colab": {
          "base_uri": "https://localhost:8080/",
          "height": 497
        }
      },
      "execution_count": 66,
      "outputs": [
        {
          "output_type": "display_data",
          "data": {
            "image/png": "[encoded data removed]",
            "text/plain": [
              "<IPython.core.display.Image object>"
            ]
          },
          "metadata": {}
        }
      ]
    }
  ]
}