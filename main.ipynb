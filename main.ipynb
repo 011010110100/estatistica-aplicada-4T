{
  "nbformat": 4,
  "nbformat_minor": 0,
  "metadata": {
    "colab": {
      "provenance": [],
      "authorship_tag": "ABX9TyOKA4pu4Q1aV/l+w9LIx9WU",
      "include_colab_link": true
    },
    "kernelspec": {
      "name": "python3",
      "display_name": "Python 3"
    },
    "language_info": {
      "name": "python"
    }
  },
  "cells": [
    {
      "cell_type": "markdown",
      "metadata": {
        "id": "view-in-github",
        "colab_type": "text"
      },
      "source": [
        "<a href=\"https://colab.research.google.com/github/011010110100/estatistica-aplicada-4T/blob/main/main.ipynb\" target=\"_parent\"><img src=\"https://colab.research.google.com/assets/colab-badge.svg\" alt=\"Open In Colab\"/></a>"
      ]
    },
    {
      "cell_type": "code",
      "source": [
        "!apt-get install -y r-base\n",
        "%load_ext rpy2.ipython"
      ],
      "metadata": {
        "colab": {
          "base_uri": "https://localhost:8080/"
        },
        "id": "slk7hNPkRjaz",
        "outputId": "9fd4e52b-1900-4af5-91c4-4b4b38fc853b"
      },
      "execution_count": 6,
      "outputs": [
        {
          "output_type": "stream",
          "name": "stdout",
          "text": [
            "Reading package lists... Done\n",
            "Building dependency tree... Done\n",
            "Reading state information... Done\n",
            "r-base is already the newest version (4.4.3-1.2204.0).\n",
            "0 upgraded, 0 newly installed, 0 to remove and 29 not upgraded.\n"
          ]
        }
      ]
    },
    {
      "cell_type": "code",
      "source": [
        "# Verificando se o R foi instalado corretamente.\n",
        "%%R\n",
        "x <- c(1, 2, 3, 4, 5)\n",
        "mean(x)"
      ],
      "metadata": {
        "colab": {
          "base_uri": "https://localhost:8080/"
        },
        "id": "hs87qDyiRrih",
        "outputId": "8fec5f4d-88fd-4d47-c058-1c2d00008f5e"
      },
      "execution_count": 8,
      "outputs": [
        {
          "output_type": "stream",
          "name": "stdout",
          "text": [
            "[1] 3\n"
          ]
        }
      ]
    },
    {
      "cell_type": "code",
      "source": [
        "%load_ext rpy2.ipython\n"
      ],
      "metadata": {
        "colab": {
          "base_uri": "https://localhost:8080/"
        },
        "id": "6GOgAHtsR5ql",
        "outputId": "b4481797-4f44-40b6-fb06-85e2e0b80af9"
      },
      "execution_count": 10,
      "outputs": [
        {
          "output_type": "stream",
          "name": "stdout",
          "text": [
            "The rpy2.ipython extension is already loaded. To reload it, use:\n",
            "  %reload_ext rpy2.ipython\n"
          ]
        }
      ]
    },
    {
      "cell_type": "code",
      "source": [
        "%%R\n",
        "ini <- Sys.time()\n",
        "install.packages(c('skimr', 'tidyverse'), dependencies = TRUE)\n",
        "Sys.time() - ini\n",
        "library(skimr)\n",
        "library(tidyverse)\n",
        "library(MASS)\n"
      ],
      "metadata": {
        "id": "uawqOBdeRvkk"
      },
      "execution_count": null,
      "outputs": []
    },
    {
      "cell_type": "code",
      "source": [
        "%%R\n",
        "# Carregando os dados e armazenando dentro da varia´vel \"fifa\"\n",
        "url0 <- 'https://raw.githubusercontent.com/filipezabala/pucrs-tecnologo-bd/main/dados/Anexo_Projeto_fifa_world_national_teams_versa%CC%83o_oficial%2020241.csv'\n",
        "fifa <- read.csv(url0, sep = ';')\n",
        "str(fifa)\n",
        "head(fifa)"
      ],
      "metadata": {
        "colab": {
          "base_uri": "https://localhost:8080/"
        },
        "id": "hYlBzHaRSVcc",
        "outputId": "da1d818c-ef85-41c4-b93b-580666c91a3d"
      },
      "execution_count": 13,
      "outputs": [
        {
          "output_type": "stream",
          "name": "stdout",
          "text": [
            "'data.frame':\t718 obs. of  30 variables:\n",
            " $ id                           : int  158023 153079 211110 201399 226226 199667 212616 216816 183892 231478 ...\n",
            " $ name                         : chr  \"Messi\" \"Aguero\" \"Dybala\" \"Icardi\" ...\n",
            " $ full_name                    : chr  \"Lionel Andr\\xe9s Messi Cuccittini\" \"Sergio Leonel Ag\\xfcero del Castillo\" \"Paulo Bruno Exequiel Dybala\" \"Mauro Emanuel Icardi Rivero\" ...\n",
            " $ overall_rating               : int  94 89 89 87 82 77 77 78 79 79 ...\n",
            " $ value_euro                   : int  110500000 64500000 89000000 64500000 30000000 8500000 12000000 15000000 8500000 18000000 ...\n",
            " $ wage_euro                    : int  565000 300000 205000 130000 83000 28000 27000 53000 19000 54000 ...\n",
            " $ nationality                  : chr  \"Argentina\" \"Argentina\" \"Argentina\" \"Argentina\" ...\n",
            " $ national_team                : chr  \"Argentina\" \"Argentina\" \"Argentina\" \"Argentina\" ...\n",
            " $ club_team                    : chr  \"FC Barcelona\" \"Manchester City\" \"Juventus\" \"Inter\" ...\n",
            " $ age                          : int  31 30 25 26 22 28 24 23 31 21 ...\n",
            " $ height_cm                    : int  170 173 152 155 175 185 152 155 155 175 ...\n",
            " $ weight_kgs                   : int  72 70 75 75 70 79 70 81 83 79 ...\n",
            " $ international_reputation.1.5.: int  5 4 3 3 1 2 1 2 1 1 ...\n",
            " $ weak_foot.1.5.               : int  4 4 3 4 3 3 3 3 3 4 ...\n",
            " $ skill_moves.1.5.             : int  4 4 4 3 4 2 4 3 2 4 ...\n",
            " $ club_rating                  : int  86 85 85 82 80 79 75 76 80 82 ...\n",
            " $ Goleiro                      : int  0 0 0 0 0 0 0 0 0 0 ...\n",
            " $ Zagueiro                     : int  0 0 0 0 0 0 0 0 0 0 ...\n",
            " $ Meio                         : int  0 0 0 0 0 0 0 0 0 0 ...\n",
            " $ Atacante                     : int  1 0 1 1 0 0 0 0 0 0 ...\n",
            " $ crossing                     : int  86 70 82 46 75 66 76 40 68 56 ...\n",
            " $ finishing                    : int  95 93 84 91 77 40 68 79 60 82 ...\n",
            " $ heading_accuracy             : int  70 77 68 91 59 79 50 80 76 79 ...\n",
            " $ short_passing                : int  92 81 87 73 82 70 78 68 71 62 ...\n",
            " $ dribbling                    : int  97 89 92 77 84 63 83 76 57 78 ...\n",
            " $ jumping                      : int  68 81 75 94 64 77 58 84 76 81 ...\n",
            " $ strength                     : int  66 73 65 76 69 78 68 72 82 86 ...\n",
            " $ long_shots                   : int  94 83 88 70 76 56 79 66 58 68 ...\n",
            " $ aggression                   : int  48 65 48 56 65 83 56 70 81 74 ...\n",
            " $ GK_reflexes                  : int  8 14 8 9 14 7 14 11 6 13 ...\n",
            "      id       name                            full_name overall_rating\n",
            "1 158023      Messi    Lionel Andr\\xe9s Messi Cuccittini             94\n",
            "2 153079     Aguero Sergio Leonel Ag\\xfcero del Castillo             89\n",
            "3 211110     Dybala          Paulo Bruno Exequiel Dybala             89\n",
            "4 201399     Icardi          Mauro Emanuel Icardi Rivero             87\n",
            "5 226226   Lo Celso                     Giovani Lo Celso             82\n",
            "6 199667 Funes Mori            Jos\\xe9 Ramiro Funes Mori             77\n",
            "  value_euro wage_euro nationality national_team       club_team age height_cm\n",
            "1  110500000    565000   Argentina     Argentina    FC Barcelona  31       170\n",
            "2   64500000    300000   Argentina     Argentina Manchester City  30       173\n",
            "3   89000000    205000   Argentina     Argentina        Juventus  25       152\n",
            "4   64500000    130000   Argentina     Argentina           Inter  26       155\n",
            "5   30000000     83000   Argentina     Argentina      Real Betis  22       175\n",
            "6    8500000     28000   Argentina     Argentina   Villarreal CF  28       185\n",
            "  weight_kgs international_reputation.1.5. weak_foot.1.5. skill_moves.1.5.\n",
            "1         72                             5              4                4\n",
            "2         70                             4              4                4\n",
            "3         75                             3              3                4\n",
            "4         75                             3              4                3\n",
            "5         70                             1              3                4\n",
            "6         79                             2              3                2\n",
            "  club_rating Goleiro Zagueiro Meio Atacante crossing finishing\n",
            "1          86       0        0    0        1       86        95\n",
            "2          85       0        0    0        0       70        93\n",
            "3          85       0        0    0        1       82        84\n",
            "4          82       0        0    0        1       46        91\n",
            "5          80       0        0    0        0       75        77\n",
            "6          79       0        0    0        0       66        40\n",
            "  heading_accuracy short_passing dribbling jumping strength long_shots\n",
            "1               70            92        97      68       66         94\n",
            "2               77            81        89      81       73         83\n",
            "3               68            87        92      75       65         88\n",
            "4               91            73        77      94       76         70\n",
            "5               59            82        84      64       69         76\n",
            "6               79            70        63      77       78         56\n",
            "  aggression GK_reflexes\n",
            "1         48           8\n",
            "2         65          14\n",
            "3         48           8\n",
            "4         56           9\n",
            "5         65          14\n",
            "6         83           7\n"
          ]
        }
      ]
    },
    {
      "cell_type": "code",
      "source": [
        "# 1. Encontre e liste uma variável de cada tipo (qualitativa nominal, qualitativa ordinal, quantitativa discreta e quantitativa contínua);\n",
        "\n",
        "# Variável Qualitativa Nominal == nationality, club_team, name. São variáveis que não possuem ordem entre seus valores.\n",
        "%%R\n",
        "cat(\"Qualitativa Nominal:\\n\")\n",
        "print(head(fifa$nationality, 5))\n",
        "cat(\"----------------------.----------------------.----------------------\\n\")\n",
        "\n",
        "# Variável Qualitativa Ordinal == skill_moves, weak_foot (quando há uma ordem lógica dos valores).\n",
        "cat(\"Qualitativa Ordinal:\\n\")\n",
        "print(head(fifa$skill_moves, 5))\n",
        "cat(\"----------------------.----------------------.----------------------\\n\")\n",
        "\n",
        "# Variável Quantitativa Discreta == age (Valores Numéricos inteiros e contáveis).\n",
        "cat(\"Quantitativa Discreta:\\n\")\n",
        "print(head(fifa$age, 5))\n",
        "cat(\"----------------------.----------------------.----------------------\\n\")\n",
        "\n",
        "# Variável Quantitativa Contínua == height_cm, weight_kgs (Valores Numéricos que podem assumir um intervalo contínuo de possibilidades).\n",
        "cat(\"Quantitativa Contínua:\\n\")\n",
        "print(head(fifa$height_cm, 5))\n",
        "cat(\"----------------------.----------------------.----------------------\\n\")\n"
      ],
      "metadata": {
        "colab": {
          "base_uri": "https://localhost:8080/"
        },
        "id": "oPqdaCr1UdqX",
        "outputId": "5a1e9abe-be1d-4d6a-ceaf-d338f82ac751"
      },
      "execution_count": 32,
      "outputs": [
        {
          "output_type": "stream",
          "name": "stdout",
          "text": [
            "Qualitativa Nominal:\n",
            "[1] \"Argentina\" \"Argentina\" \"Argentina\" \"Argentina\" \"Argentina\"\n",
            "----------------------.----------------------.----------------------\n",
            "Qualitativa Ordinal:\n",
            "[1] 4 4 4 3 4\n",
            "----------------------.----------------------.----------------------\n",
            "Quantitativa Discreta:\n",
            "[1] 31 30 25 26 22\n",
            "----------------------.----------------------.----------------------\n",
            "Quantitativa Contínua:\n",
            "[1] 170 173 152 155 175\n",
            "----------------------.----------------------.----------------------\n"
          ]
        }
      ]
    },
    {
      "cell_type": "code",
      "source": [
        "# 2. Tabelas de frequência para duas variáveis qualitativas;"
      ],
      "metadata": {
        "id": "fZ4bkQGbWN0E"
      },
      "execution_count": null,
      "outputs": []
    },
    {
      "cell_type": "code",
      "source": [
        "# 3. Uma tabela com medidas de posição e variabilidade para ao menos 5 variáveis a serem escolhidas;"
      ],
      "metadata": {
        "id": "5g4COn6qWTRX"
      },
      "execution_count": null,
      "outputs": []
    },
    {
      "cell_type": "markdown",
      "source": [],
      "metadata": {
        "id": "2PaYgtE_WTFj"
      }
    },
    {
      "cell_type": "code",
      "source": [
        "# 4. Ao menos dois gráficos criativos para ajudar na visualização de resultados, conforme orientações dadas em aula pelo professor Hélio;"
      ],
      "metadata": {
        "id": "vtosTZ-BWVg6"
      },
      "execution_count": null,
      "outputs": []
    },
    {
      "cell_type": "code",
      "source": [
        "# 5. Um histograma ou gráfico de barra para verificação de adequabilidade do modelo probabilístico para a variável escolhida."
      ],
      "metadata": {
        "id": "iIHhP3ITWXVl"
      },
      "execution_count": null,
      "outputs": []
    }
  ]
}