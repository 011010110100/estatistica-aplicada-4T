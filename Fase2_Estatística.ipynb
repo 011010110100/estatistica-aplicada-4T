{
  "cells": [
    {
      "cell_type": "markdown",
      "metadata": {
        "id": "view-in-github",
        "colab_type": "text"
      },
      "source": [
        "<a href=\"https://colab.research.google.com/github/011010110100/estatistica-aplicada-4T/blob/main/Fase2_Estat%C3%ADstica.ipynb\" target=\"_parent\"><img src=\"https://colab.research.google.com/assets/colab-badge.svg\" alt=\"Open In Colab\"/></a>"
      ]
    },
    {
      "cell_type": "markdown",
      "metadata": {
        "id": "cQ26wFODXHgQ"
      },
      "source": [
        "# Fase 2 - Estatística Aplicada\n",
        "Marcos de Brito Paceka\n"
      ]
    },
    {
      "cell_type": "markdown",
      "metadata": {
        "id": "Q_VwBoBi2VZi"
      },
      "source": [
        "### 1.1 Bibliotecas\n",
        "Para ampliar o uso do R utilizaremos as seguintes bibliotecas adicionais."
      ]
    },
    {
      "cell_type": "code",
      "execution_count": null,
      "metadata": {
        "colab": {
          "base_uri": "https://localhost:8080/",
          "height": 86
        },
        "id": "cbGeLwhy2URc",
        "outputId": "40d6bdbc-ac99-41a8-a6ff-430bf034acb4",
        "collapsed": true
      },
      "outputs": [
        {
          "output_type": "stream",
          "name": "stderr",
          "text": [
            "Installing packages into ‘/usr/local/lib/R/site-library’\n",
            "(as ‘lib’ is unspecified)\n",
            "\n"
          ]
        },
        {
          "output_type": "display_data",
          "data": {
            "text/plain": [
              "Time difference of 14.54286 secs"
            ]
          },
          "metadata": {}
        }
      ],
      "source": [
        "ini <- Sys.time()\n",
        "install.packages(c('skimr','tidyverse'), dep = TRUE)\n",
        "Sys.time()-ini\n",
        "library(skimr)\n",
        "library(tidyverse)\n",
        "library(MASS)"
      ]
    },
    {
      "cell_type": "code",
      "source": [
        "# Carregando os dados e armazenando dentro da variável \"fifa\"\n",
        "url0 <- 'https://raw.githubusercontent.com/filipezabala/pucrs-tecnologo-bd/main/dados/Anexo_Projeto_fifa_world_national_teams_versa%CC%83o_oficial%2020241.csv'\n",
        "fifa <- read.csv(url0, sep = ';')\n",
        "head(str(fifa))"
      ],
      "metadata": {
        "colab": {
          "base_uri": "https://localhost:8080/",
          "height": 593
        },
        "id": "tSnkikvHSQHW",
        "outputId": "c5283a9e-9b50-45b4-8c72-c652fee85233"
      },
      "execution_count": null,
      "outputs": [
        {
          "output_type": "stream",
          "name": "stdout",
          "text": [
            "'data.frame':\t718 obs. of  30 variables:\n",
            " $ id                           : int  158023 153079 211110 201399 226226 199667 212616 216816 183892 231478 ...\n",
            " $ name                         : chr  \"Messi\" \"Aguero\" \"Dybala\" \"Icardi\" ...\n",
            " $ full_name                    : chr  \"Lionel Andr\\xe9s Messi Cuccittini\" \"Sergio Leonel Ag\\xfcero del Castillo\" \"Paulo Bruno Exequiel Dybala\" \"Mauro Emanuel Icardi Rivero\" ...\n",
            " $ overall_rating               : int  94 89 89 87 82 77 77 78 79 79 ...\n",
            " $ value_euro                   : int  110500000 64500000 89000000 64500000 30000000 8500000 12000000 15000000 8500000 18000000 ...\n",
            " $ wage_euro                    : int  565000 300000 205000 130000 83000 28000 27000 53000 19000 54000 ...\n",
            " $ nationality                  : chr  \"Argentina\" \"Argentina\" \"Argentina\" \"Argentina\" ...\n",
            " $ national_team                : chr  \"Argentina\" \"Argentina\" \"Argentina\" \"Argentina\" ...\n",
            " $ club_team                    : chr  \"FC Barcelona\" \"Manchester City\" \"Juventus\" \"Inter\" ...\n",
            " $ age                          : int  31 30 25 26 22 28 24 23 31 21 ...\n",
            " $ height_cm                    : int  170 173 152 155 175 185 152 155 155 175 ...\n",
            " $ weight_kgs                   : int  72 70 75 75 70 79 70 81 83 79 ...\n",
            " $ international_reputation.1.5.: int  5 4 3 3 1 2 1 2 1 1 ...\n",
            " $ weak_foot.1.5.               : int  4 4 3 4 3 3 3 3 3 4 ...\n",
            " $ skill_moves.1.5.             : int  4 4 4 3 4 2 4 3 2 4 ...\n",
            " $ club_rating                  : int  86 85 85 82 80 79 75 76 80 82 ...\n",
            " $ Goleiro                      : int  0 0 0 0 0 0 0 0 0 0 ...\n",
            " $ Zagueiro                     : int  0 0 0 0 0 0 0 0 0 0 ...\n",
            " $ Meio                         : int  0 0 0 0 0 0 0 0 0 0 ...\n",
            " $ Atacante                     : int  1 0 1 1 0 0 0 0 0 0 ...\n",
            " $ crossing                     : int  86 70 82 46 75 66 76 40 68 56 ...\n",
            " $ finishing                    : int  95 93 84 91 77 40 68 79 60 82 ...\n",
            " $ heading_accuracy             : int  70 77 68 91 59 79 50 80 76 79 ...\n",
            " $ short_passing                : int  92 81 87 73 82 70 78 68 71 62 ...\n",
            " $ dribbling                    : int  97 89 92 77 84 63 83 76 57 78 ...\n",
            " $ jumping                      : int  68 81 75 94 64 77 58 84 76 81 ...\n",
            " $ strength                     : int  66 73 65 76 69 78 68 72 82 86 ...\n",
            " $ long_shots                   : int  94 83 88 70 76 56 79 66 58 68 ...\n",
            " $ aggression                   : int  48 65 48 56 65 83 56 70 81 74 ...\n",
            " $ GK_reflexes                  : int  8 14 8 9 14 7 14 11 6 13 ...\n"
          ]
        },
        {
          "output_type": "display_data",
          "data": {
            "text/plain": [
              "NULL"
            ]
          },
          "metadata": {}
        }
      ]
    },
    {
      "cell_type": "markdown",
      "source": [
        "# Calculando uma probabilidade Incondicional\n",
        "\n",
        "É uma probabilidade de um evento ocorrer sem levar em conta a ocorrência de outros eventos."
      ],
      "metadata": {
        "id": "oK3--p-TsB5r"
      }
    },
    {
      "cell_type": "code",
      "source": [
        "# Qual a probabilidade de um jogador escolhido aleatoriamente ter um \"finishing\" maior que 73?\n",
        "\n",
        "# Criando um subconjunto de dados com a nossa \"regra\" de finishing > 73\n",
        "jogadores_finishing_maior_73 <- sum(fifa$finishing > 73, na.rm = TRUE)\n",
        "cat(\"Jogadores com 'finishing' > 73:\", jogadores_finishing_maior_73, \"\\n\")\n",
        "\n",
        "# Calculando o Total de Jogadores do nosso csv \"\"fifa\"\n",
        "total_jogadores <- nrow(fifa)\n",
        "cat(\"Total de Jogadores:\", total_jogadores, \"\\n\")\n",
        "\n",
        "# Calculando a probabilidade dada no enunciado.\n",
        "prob_finishing_maior_73 <- (jogadores_finishing_maior_73 / total_jogadores)*100\n",
        "\n",
        "# Retornando a proporção\n",
        "cat(\"A probabilidade de um jogador aleatório ter um finishing maior que 73 é de:\", prob_finishing_maior_73, TRUE)"
      ],
      "metadata": {
        "colab": {
          "base_uri": "https://localhost:8080/"
        },
        "id": "V6-YOPFzSdy8",
        "outputId": "4d274dce-56c8-48d7-a0ef-f8550f0d9a4e"
      },
      "execution_count": null,
      "outputs": [
        {
          "output_type": "stream",
          "name": "stdout",
          "text": [
            "Jogadores com 'finishing' > 73: 132 \n",
            "Total de Jogadores: 718 \n",
            "A probabilidade de um jogador aleatório ter um finishing maior que 73 é de: 18.3844 TRUE"
          ]
        }
      ]
    },
    {
      "cell_type": "markdown",
      "source": [
        "# Calculando uma probabilidade Condicional\n",
        "\n",
        "É a probabilidade de um evento ocorrer dado que outro evento já ocorreu, ou seja, existe uma condição."
      ],
      "metadata": {
        "id": "etEAM2prs7A-"
      }
    },
    {
      "cell_type": "code",
      "source": [
        "# 1º Qual a probabilidade de um jogador escolhido aleatoriamente ter um \"finishing\" maior que 73\n",
        "# visto que o jogador escolhido foi um ATACANTE?\n",
        "\n",
        "# Criar uma tabela de contingência para Finishing > 73 e Atacante\n",
        "# fifa$finishing > 73 === retorna uma lisde de booleano (TRUE, FALSE).\n",
        "# fifa$Atacante       === retorna uma lista de binários, indicando se é ou não atacante.\n",
        "atacantes <- fifa$Atacante\n",
        "tabela <- table(fifa$finishing > 73, atacantes)\n",
        "#print_formatado(\"Atacantes:\", sum(atacantes))\n",
        "print(tabela)\n",
        "# Com essa tabela, podemos observar que:\n",
        "# temos 22 atacantes que não possuem o \"finishing\" maior que 73.\n",
        "# temos 50 atacantes com o \"finishing\" maior que 73.\n",
        "# Total de atacantes => 50 + 22 = 72 atacantes.\n",
        "# Outro detalhe curioso é que, apenas 82 jogadores que não são atacantes possuem o chute maior que 73.\n",
        "# O que condiz com os resultados da célula anterior, que nos diz que 132 jogadores posuem chute > 73\n",
        "# 132 = 82 (não atacantes) + 50 (atacantes)   , onde: não atacantes = goleiro, zagueiro, meio-campo...\n",
        "\n",
        "\n",
        "# P(Finishing > 73 | Atacante = 1)\n",
        "# A posição [2, 2] indica o que estamos interessados, ou seja, nos atacantes com finishing > 73\n",
        "prob_condicional <- (prop.table(tabela, margin = 2)[2, 2])*100\n",
        "\n",
        "# Exibir o resultado\n",
        "cat(\"A probabilidade de um jogador ter 'finishing' > 73, sabendo que ele é ATACANTE é de :\", prob_condicional, TRUE)"
      ],
      "metadata": {
        "colab": {
          "base_uri": "https://localhost:8080/"
        },
        "id": "KXoyHeCztBtJ",
        "outputId": "5ce35695-0d77-4695-93d0-fb171354ec0e"
      },
      "execution_count": null,
      "outputs": [
        {
          "output_type": "stream",
          "name": "stdout",
          "text": [
            "       atacantes\n",
            "          0   1\n",
            "  FALSE 564  22\n",
            "  TRUE   82  50\n",
            "A probabilidade de um jogador ter 'finishing' > 73, sabendo que ele é ATACANTE é de : 69.44444 TRUE"
          ]
        }
      ]
    },
    {
      "cell_type": "markdown",
      "source": [
        "# Calculando os Intervalos de Confiança\n",
        "\n",
        "São faixas de valores que indicam onde possivelmente está o verdadeido valor."
      ],
      "metadata": {
        "id": "NI4frdXa5hH0"
      }
    },
    {
      "cell_type": "code",
      "source": [
        "# Calculando o Intervalo de Confiança (IC) do overall_rating        [1ª Variável]\n",
        "ic_overall_rating <- t.test(fifa$overall_rating)$conf.int\n",
        "# t.test() -> teste t de Student (teste estatístico que compara médias)\n",
        "\n",
        "\n",
        "cat(\"Intervalo de confiança para o 'overall rating' (com 95%): [\" , round(ic_overall_rating, 2), \"]\")\n",
        "\n",
        "# Logo, podemos concluir que a média real do overall_rating dos jogadores está entre [76.02 e 76.9] com 95% de confiança\n",
        "# O IC fornece uma estimativa de onde podemos esperar que a média real está, com base na nossa amostra."
      ],
      "metadata": {
        "colab": {
          "base_uri": "https://localhost:8080/"
        },
        "id": "Eb_Phl-k2mMq",
        "outputId": "85f76490-fd41-4bbb-9788-0e7bf7d581de"
      },
      "execution_count": null,
      "outputs": [
        {
          "output_type": "stream",
          "name": "stdout",
          "text": [
            "Intervalo de confiança para o 'overall rating' (com 95%): [ 76.02 76.9 ]"
          ]
        }
      ]
    },
    {
      "cell_type": "code",
      "source": [
        "# Calculando o Intervalo de Confiança (IC) para a idade\n",
        "ic_age <- t.test(fifa$age)$conf.int\n",
        "\n",
        "# Exibindo o resultado\n",
        "cat(\"Intervalo de confiança para 'age' (com 95%): [\" , round(ic_age, 2), \"]\")\n",
        "\n",
        "# Logo, podemos concluir que a média real da idade dos jogadores está entre [26.3 e 26.83] com 95% de confiança"
      ],
      "metadata": {
        "colab": {
          "base_uri": "https://localhost:8080/"
        },
        "id": "jl6S_1oGGQPT",
        "outputId": "30b3420a-7354-48f4-90a0-44c1041bb674"
      },
      "execution_count": null,
      "outputs": [
        {
          "output_type": "stream",
          "name": "stdout",
          "text": [
            "Intervalo de confiança para 'age' (com 95%): [ 26.3 26.83 ]"
          ]
        }
      ]
    },
    {
      "cell_type": "markdown",
      "source": [
        "# Teste de Hipótese\n",
        "\n",
        "Precisamos definir a Hipótese Nula (H0) e a Hipótese Alternativa (H1)."
      ],
      "metadata": {
        "id": "RRIk82H_HYD0"
      }
    },
    {
      "cell_type": "code",
      "source": [
        "# um resumo sobre a variável height_cm\n",
        "summary(fifa$height_cm)\n",
        "\n",
        "# Calculando a média amostral arredondada para o número inteiro mais próximo\n",
        "media <- mean(fifa$height_cm)\n",
        "ma <- round(media, 0)\n",
        "\n",
        "# Definindo as hipóteses:\n",
        "# H0: A média populacional da altura é igual à média amostral arredondada      (μ = 177)\n",
        "# H1: A média populacional da altura é diferente da média amostral arredondada (μ ≠ 177)\n",
        "teste_height <- t.test(fifa$height_cm, mu = ma)\n",
        "\n",
        "cat(\"------------------------------------------------\\n\")\n",
        "cat(\"Teste de Hipótese para Height (Altura)\\n\")\n",
        "cat(\"Média amostral:\", media, \"\\n\")\n",
        "cat(\"Média arredondada:\", ma, \"\\n\")\n",
        "cat(\"Valor-p:\", teste_height$p.value, \"\\n\")\n",
        "\n",
        "\n",
        "# Logo, como nosso 'p-value' nos retornou 0.96, não há evidências estatísticas para rejeitar a hipótese nula (H0)"
      ],
      "metadata": {
        "colab": {
          "base_uri": "https://localhost:8080/",
          "height": 139
        },
        "id": "cMlDeW1lI1UY",
        "outputId": "b7e1ef6b-e300-452c-8335-120357845f94"
      },
      "execution_count": null,
      "outputs": [
        {
          "output_type": "display_data",
          "data": {
            "text/plain": [
              "   Min. 1st Qu.  Median    Mean 3rd Qu.    Max. \n",
              "    152     170     183     177     188     203 "
            ]
          },
          "metadata": {}
        },
        {
          "output_type": "stream",
          "name": "stdout",
          "text": [
            "------------------------------------------------\n",
            "Teste de Hipótese para Height (Altura)\n",
            "Média amostral: 177.0237 \n",
            "Média arredondada: 177 \n",
            "Valor-p: 0.9646653 \n"
          ]
        }
      ]
    },
    {
      "cell_type": "code",
      "source": [
        "summary(fifa$wage_euro)\n",
        "\n",
        "\n",
        "# Definindo nossas hipóteses para média dos salários.\n",
        "# H0 => (μ = 10.000)\n",
        "# H1 => (μ ≠ 10.000)\n",
        "\n",
        "media_salario <- mean(fifa$wage_euro, na.rm = TRUE)\n",
        "\n",
        "# Média hipotética\n",
        "media_h <- 10000\n",
        "\n",
        "# Teste t para verificar se a média é estatisticamente diferente de media_h\n",
        "teste_salario <- t.test(fifa$wage_euro, mu = media_h, na.rm = TRUE)\n",
        "\n",
        "# Resultados\n",
        "cat(\"------------------------------------------------\\n\")\n",
        "cat(\"Teste de Hipótese para 'wage euro'\\n\")\n",
        "cat(\"Média amostral do salário:\", round(media_salario, 2), \"euros\\n\")\n",
        "cat(\"Valor-p:\", round(teste_salario$p.value, 4), \"\\n\")\n",
        "\n",
        "\n",
        "if (teste_salario$p.value < 0.05) {\n",
        "  cat(\"Rejeitamos H0: O salário médio é estatisticamente diferente de\", media_h, \"euros.\\n\")\n",
        "} else {\n",
        "  cat(\"Não há evidências para rejeitar H0: O salário médio pode ser considerado\", media_h, \"euros.\\n\")\n",
        "}"
      ],
      "metadata": {
        "colab": {
          "base_uri": "https://localhost:8080/",
          "height": 139
        },
        "id": "vhzEIxCWKWCl",
        "outputId": "a6ced296-2010-48d3-e38e-e70f94489050"
      },
      "execution_count": null,
      "outputs": [
        {
          "output_type": "display_data",
          "data": {
            "text/plain": [
              "   Min. 1st Qu.  Median    Mean 3rd Qu.    Max. \n",
              "   1000   10000   27000   49560   59000  565000 "
            ]
          },
          "metadata": {}
        },
        {
          "output_type": "stream",
          "name": "stdout",
          "text": [
            "------------------------------------------------\n",
            "Teste de Hipótese para 'wage euro'\n",
            "Média amostral do salário: 49559.89 euros\n",
            "Valor-p: 0 \n",
            "Rejeitamos H0: O salário médio é estatisticamente diferente de 10000 euros.\n"
          ]
        }
      ]
    }
  ],
  "metadata": {
    "colab": {
      "provenance": [],
      "include_colab_link": true
    },
    "kernelspec": {
      "display_name": "R",
      "name": "ir"
    },
    "language_info": {
      "name": "R"
    }
  },
  "nbformat": 4,
  "nbformat_minor": 0
}