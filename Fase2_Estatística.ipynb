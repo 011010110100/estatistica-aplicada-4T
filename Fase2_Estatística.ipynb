{
  "cells": [
    {
      "cell_type": "markdown",
      "metadata": {
        "id": "view-in-github",
        "colab_type": "text"
      },
      "source": [
        "<a href=\"https://colab.research.google.com/github/011010110100/estatistica-aplicada-4T/blob/main/Fase2_Estat%C3%ADstica.ipynb\" target=\"_parent\"><img src=\"https://colab.research.google.com/assets/colab-badge.svg\" alt=\"Open In Colab\"/></a>"
      ]
    },
    {
      "cell_type": "markdown",
      "metadata": {
        "id": "cQ26wFODXHgQ"
      },
      "source": [
        "# Fase 2 - Estatística Aplicada\n",
        "Marcos de Brito Paceka\n"
      ]
    },
    {
      "cell_type": "markdown",
      "metadata": {
        "id": "Q_VwBoBi2VZi"
      },
      "source": [
        "### 1.1 Bibliotecas\n",
        "Para ampliar o uso do R utilizaremos as seguintes bibliotecas adicionais."
      ]
    },
    {
      "cell_type": "code",
      "execution_count": 1,
      "metadata": {
        "colab": {
          "base_uri": "https://localhost:8080/",
          "height": 468
        },
        "id": "cbGeLwhy2URc",
        "outputId": "706c5f5e-9f33-4bfb-80ae-095494371bd5",
        "collapsed": true
      },
      "outputs": [
        {
          "output_type": "stream",
          "name": "stderr",
          "text": [
            "Installing packages into ‘/usr/local/lib/R/site-library’\n",
            "(as ‘lib’ is unspecified)\n",
            "\n",
            "also installing the dependencies ‘lazyeval’, ‘rex’, ‘extrafontdb’, ‘Rttf2pt1’, ‘covr’, ‘extrafont’, ‘feather’, ‘mockr’\n",
            "\n",
            "\n"
          ]
        },
        {
          "output_type": "display_data",
          "data": {
            "text/plain": [
              "Time difference of 1.341296 mins"
            ]
          },
          "metadata": {}
        },
        {
          "output_type": "stream",
          "name": "stderr",
          "text": [
            "── \u001b[1mAttaching core tidyverse packages\u001b[22m ──────────────────────── tidyverse 2.0.0 ──\n",
            "\u001b[32m✔\u001b[39m \u001b[34mdplyr    \u001b[39m 1.1.4     \u001b[32m✔\u001b[39m \u001b[34mreadr    \u001b[39m 2.1.5\n",
            "\u001b[32m✔\u001b[39m \u001b[34mforcats  \u001b[39m 1.0.0     \u001b[32m✔\u001b[39m \u001b[34mstringr  \u001b[39m 1.5.1\n",
            "\u001b[32m✔\u001b[39m \u001b[34mggplot2  \u001b[39m 3.5.1     \u001b[32m✔\u001b[39m \u001b[34mtibble   \u001b[39m 3.2.1\n",
            "\u001b[32m✔\u001b[39m \u001b[34mlubridate\u001b[39m 1.9.4     \u001b[32m✔\u001b[39m \u001b[34mtidyr    \u001b[39m 1.3.1\n",
            "\u001b[32m✔\u001b[39m \u001b[34mpurrr    \u001b[39m 1.0.4     \n",
            "── \u001b[1mConflicts\u001b[22m ────────────────────────────────────────── tidyverse_conflicts() ──\n",
            "\u001b[31m✖\u001b[39m \u001b[34mdplyr\u001b[39m::\u001b[32mfilter()\u001b[39m masks \u001b[34mstats\u001b[39m::filter()\n",
            "\u001b[31m✖\u001b[39m \u001b[34mdplyr\u001b[39m::\u001b[32mlag()\u001b[39m    masks \u001b[34mstats\u001b[39m::lag()\n",
            "\u001b[36mℹ\u001b[39m Use the conflicted package (\u001b[3m\u001b[34m<http://conflicted.r-lib.org/>\u001b[39m\u001b[23m) to force all conflicts to become errors\n",
            "\n",
            "Attaching package: ‘MASS’\n",
            "\n",
            "\n",
            "The following object is masked from ‘package:dplyr’:\n",
            "\n",
            "    select\n",
            "\n",
            "\n"
          ]
        }
      ],
      "source": [
        "ini <- Sys.time()\n",
        "install.packages(c('skimr','tidyverse'), dep = TRUE)\n",
        "Sys.time()-ini\n",
        "library(skimr)\n",
        "library(tidyverse)\n",
        "library(MASS)"
      ]
    },
    {
      "cell_type": "code",
      "source": [
        "# Carregando os dados e armazenando dentro da variável \"fifa\"\n",
        "url0 <- 'https://raw.githubusercontent.com/filipezabala/pucrs-tecnologo-bd/main/dados/Anexo_Projeto_fifa_world_national_teams_versa%CC%83o_oficial%2020241.csv'\n",
        "fifa <- read.csv(url0, sep = ';')\n",
        "head(str(fifa))"
      ],
      "metadata": {
        "colab": {
          "base_uri": "https://localhost:8080/",
          "height": 593
        },
        "id": "tSnkikvHSQHW",
        "outputId": "c71140f6-3f15-4eb7-a0ad-7b37bbdcbd31"
      },
      "execution_count": 2,
      "outputs": [
        {
          "output_type": "stream",
          "name": "stdout",
          "text": [
            "'data.frame':\t718 obs. of  30 variables:\n",
            " $ id                           : int  158023 153079 211110 201399 226226 199667 212616 216816 183892 231478 ...\n",
            " $ name                         : chr  \"Messi\" \"Aguero\" \"Dybala\" \"Icardi\" ...\n",
            " $ full_name                    : chr  \"Lionel Andr\\xe9s Messi Cuccittini\" \"Sergio Leonel Ag\\xfcero del Castillo\" \"Paulo Bruno Exequiel Dybala\" \"Mauro Emanuel Icardi Rivero\" ...\n",
            " $ overall_rating               : int  94 89 89 87 82 77 77 78 79 79 ...\n",
            " $ value_euro                   : int  110500000 64500000 89000000 64500000 30000000 8500000 12000000 15000000 8500000 18000000 ...\n",
            " $ wage_euro                    : int  565000 300000 205000 130000 83000 28000 27000 53000 19000 54000 ...\n",
            " $ nationality                  : chr  \"Argentina\" \"Argentina\" \"Argentina\" \"Argentina\" ...\n",
            " $ national_team                : chr  \"Argentina\" \"Argentina\" \"Argentina\" \"Argentina\" ...\n",
            " $ club_team                    : chr  \"FC Barcelona\" \"Manchester City\" \"Juventus\" \"Inter\" ...\n",
            " $ age                          : int  31 30 25 26 22 28 24 23 31 21 ...\n",
            " $ height_cm                    : int  170 173 152 155 175 185 152 155 155 175 ...\n",
            " $ weight_kgs                   : int  72 70 75 75 70 79 70 81 83 79 ...\n",
            " $ international_reputation.1.5.: int  5 4 3 3 1 2 1 2 1 1 ...\n",
            " $ weak_foot.1.5.               : int  4 4 3 4 3 3 3 3 3 4 ...\n",
            " $ skill_moves.1.5.             : int  4 4 4 3 4 2 4 3 2 4 ...\n",
            " $ club_rating                  : int  86 85 85 82 80 79 75 76 80 82 ...\n",
            " $ Goleiro                      : int  0 0 0 0 0 0 0 0 0 0 ...\n",
            " $ Zagueiro                     : int  0 0 0 0 0 0 0 0 0 0 ...\n",
            " $ Meio                         : int  0 0 0 0 0 0 0 0 0 0 ...\n",
            " $ Atacante                     : int  1 0 1 1 0 0 0 0 0 0 ...\n",
            " $ crossing                     : int  86 70 82 46 75 66 76 40 68 56 ...\n",
            " $ finishing                    : int  95 93 84 91 77 40 68 79 60 82 ...\n",
            " $ heading_accuracy             : int  70 77 68 91 59 79 50 80 76 79 ...\n",
            " $ short_passing                : int  92 81 87 73 82 70 78 68 71 62 ...\n",
            " $ dribbling                    : int  97 89 92 77 84 63 83 76 57 78 ...\n",
            " $ jumping                      : int  68 81 75 94 64 77 58 84 76 81 ...\n",
            " $ strength                     : int  66 73 65 76 69 78 68 72 82 86 ...\n",
            " $ long_shots                   : int  94 83 88 70 76 56 79 66 58 68 ...\n",
            " $ aggression                   : int  48 65 48 56 65 83 56 70 81 74 ...\n",
            " $ GK_reflexes                  : int  8 14 8 9 14 7 14 11 6 13 ...\n"
          ]
        },
        {
          "output_type": "display_data",
          "data": {
            "text/plain": [
              "NULL"
            ]
          },
          "metadata": {}
        }
      ]
    },
    {
      "cell_type": "markdown",
      "source": [
        "# Códigos reutilizados (um arquivo \"Util\")\n"
      ],
      "metadata": {
        "id": "xJsDaBbMwuqX"
      }
    },
    {
      "cell_type": "code",
      "source": [
        "print_formatado <- function(mensagem, valor, porcentagem = FALSE) {\n",
        "  if (porcentagem) {\n",
        "    print(sprintf(paste0(mensagem, \" %.2f%%\"), valor))\n",
        "  } else {\n",
        "    print(sprintf(paste0(mensagem, \" %.2f\"), valor))\n",
        "  }\n",
        "}"
      ],
      "metadata": {
        "id": "Gnwb_P9fwuMM"
      },
      "execution_count": 37,
      "outputs": []
    },
    {
      "cell_type": "markdown",
      "source": [
        "# Calculando uma probabilidade Incondicional\n",
        "\n",
        "É uma probabilidade de um evento ocorrer sem levar em conta a ocorrência de outros eventos."
      ],
      "metadata": {
        "id": "oK3--p-TsB5r"
      }
    },
    {
      "cell_type": "code",
      "source": [
        "# Qual a probabilidade de um jogador escolhido aleatoriamente ter um \"finishing\" maior que 73?\n",
        "\n",
        "# Criando um subconjunto de dados com a nossa \"regra\" de finishing > 73\n",
        "jogadores_finishing_maior_73 <- sum(fifa$finishing > 73, na.rm = TRUE)\n",
        "print_formatado(\"Jogadores com 'finishing' > 73:\", jogadores_finishing_maior_73)\n",
        "\n",
        "# Calculando o Total de Jogadores do nosso csv \"\"fifa\"\n",
        "total_jogadores <- nrow(fifa)\n",
        "print_formatado(\"Total de Jogadores:\", total_jogadores)\n",
        "\n",
        "# Calculando a probabilidade dada no enunciado.\n",
        "prob_finishing_maior_73 <- (jogadores_finishing_maior_73 / total_jogadores)*100\n",
        "\n",
        "# Retornando a proporção\n",
        "print_formatado(\"A probabilidade de um jogador aleatório ter um finishing maior que 73 é de:\", prob_finishing_maior_73, TRUE)"
      ],
      "metadata": {
        "colab": {
          "base_uri": "https://localhost:8080/"
        },
        "id": "V6-YOPFzSdy8",
        "outputId": "74e70adc-3db3-4d61-859a-6182582f4383"
      },
      "execution_count": 38,
      "outputs": [
        {
          "output_type": "stream",
          "name": "stdout",
          "text": [
            "[1] \"Jogadores com 'finishing' > 73: 132.00\"\n",
            "[1] \"Total de Jogadores: 718.00\"\n",
            "[1] \"A probabilidade de um jogador aleatório ter um finishing maior que 73 é de: 18.38%\"\n"
          ]
        }
      ]
    },
    {
      "cell_type": "markdown",
      "source": [
        "# Calculando uma probabilidade Condicional\n",
        "\n",
        "É a probabilidade de um evento ocorrer dado que outro evento já ocorreu, ou seja, existe uma condição."
      ],
      "metadata": {
        "id": "etEAM2prs7A-"
      }
    },
    {
      "cell_type": "code",
      "source": [
        "# 1º Qual a probabilidade de um jogador escolhido aleatoriamente ter um \"finishing\" maior que 73\n",
        "# visto que o jogador escolhido foi um ATACANTE?\n",
        "\n",
        "# Criar uma tabela de contingência para Finishing > 73 e Atacante\n",
        "# fifa$finishing > 73 === retorna uma lisde de booleano (TRUE, FALSE).\n",
        "# fifa$Atacante       === retorna uma lista de binários, indicando se é ou não atacante.\n",
        "atacantes <- fifa$Atacante\n",
        "tabela <- table(fifa$finishing > 73, atacantes)\n",
        "#print_formatado(\"Atacantes:\", sum(atacantes))\n",
        "print(tabela)\n",
        "# Com essa tabela, podemos observar que:\n",
        "# temos 22 atacantes que não possuem o \"finishing\" maior que 73.\n",
        "# temos 50 atacantes com o \"finishing\" maior que 73.\n",
        "# Total de atacantes => 50 + 22 = 72 atacantes.\n",
        "# Outro detalhe curioso é que, apenas 82 jogadores que não são atacantes possuem o chute maior que 73.\n",
        "# O que condiz com os resultados da célula anterior, que nos diz que 132 jogadores posuem chute > 73\n",
        "# 132 = 82 (não atacantes) + 50 (atacantes)   , onde: não atacantes = goleiro, zagueiro, meio-campo...\n",
        "\n",
        "\n",
        "# P(Finishing > 73 | Atacante = 1)\n",
        "# A posição [2, 2] indica o que estamos interessados, ou seja, nos atacantes com finishing > 73\n",
        "prob_condicional <- (prop.table(tabela, margin = 2)[2, 2])*100\n",
        "\n",
        "# Exibir o resultado\n",
        "print_formatado(\"A probabilidade de um jogador ter 'finishing' > 73, sabendo que ele é ATACANTE é de :\", prob_condicional, TRUE)"
      ],
      "metadata": {
        "colab": {
          "base_uri": "https://localhost:8080/"
        },
        "id": "KXoyHeCztBtJ",
        "outputId": "6be894d8-e9f9-4ebe-efc4-4bd7aa611df6"
      },
      "execution_count": 71,
      "outputs": [
        {
          "output_type": "stream",
          "name": "stdout",
          "text": [
            "       atacantes\n",
            "          0   1\n",
            "  FALSE 564  22\n",
            "  TRUE   82  50\n",
            "[1] \"A probabilidade de um jogador ter 'finishing' > 73, sabendo que ele é ATACANTE é de : 69.44%\"\n"
          ]
        }
      ]
    },
    {
      "cell_type": "markdown",
      "source": [
        "# Calculando os Intervalos de Confiança\n",
        "\n",
        "São faixas de valores que indicam onde possivelmente está o verdadeido valor."
      ],
      "metadata": {
        "id": "NI4frdXa5hH0"
      }
    },
    {
      "cell_type": "code",
      "source": [
        "# Calculando o Intervalo de Confiança (IC) do overall_rating        [1ª Variável]\n",
        "ic_overall_rating <- t.test(fifa$overall_rating)$conf.int\n",
        "# t.test() -> teste t de Student (teste estatístico que compara médias)\n",
        "\n",
        "\n",
        "cat(\"Intervalo de confiança para o 'overall rating' (com 95%): [\" , round(ic_overall_rating, 2), \"]\")\n",
        "\n",
        "# Logo, podemos concluir que a média real do overall_rating dos jogadores está entre [76.02 e 76.9] com 95% de confiança\n",
        "# O IC fornece uma estimativa de onde podemos esperar que a média real está, com base na nossa amostra."
      ],
      "metadata": {
        "colab": {
          "base_uri": "https://localhost:8080/"
        },
        "id": "Eb_Phl-k2mMq",
        "outputId": "f4b4a29c-103f-4b42-cafa-f40842032e45"
      },
      "execution_count": 91,
      "outputs": [
        {
          "output_type": "stream",
          "name": "stdout",
          "text": [
            "Intervalo de confiança para o 'overall rating' (com 95%): [ 76.02 76.9 ]"
          ]
        }
      ]
    },
    {
      "cell_type": "code",
      "source": [
        "# Calculando o Intervalo de Confiança (IC) para a idade\n",
        "ic_age <- t.test(fifa$age)$conf.int\n",
        "\n",
        "# Exibindo o resultado\n",
        "cat(\"Intervalo de confiança para 'age' (com 95%): [\" , round(ic_age, 2), \"]\")\n",
        "\n",
        "# Logo, podemos concluir que a média real da idade dos jogadores está entre [26.3 e 26.83] com 95% de confiança\n"
      ],
      "metadata": {
        "colab": {
          "base_uri": "https://localhost:8080/"
        },
        "id": "jl6S_1oGGQPT",
        "outputId": "d9ad3523-7df0-49b4-db69-be541838e4f2"
      },
      "execution_count": 98,
      "outputs": [
        {
          "output_type": "stream",
          "name": "stdout",
          "text": [
            "Intervalo de confiança para 'age' (com 95%): [ 26.3 26.83 ]"
          ]
        }
      ]
    },
    {
      "cell_type": "markdown",
      "source": [
        "# Teste de Hipótese\n",
        "\n",
        "Precisamos definir a Hipótese Nula (H0) e a Hipótese Alternativa (H1)."
      ],
      "metadata": {
        "id": "RRIk82H_HYD0"
      }
    }
  ],
  "metadata": {
    "colab": {
      "provenance": [],
      "include_colab_link": true
    },
    "kernelspec": {
      "display_name": "R",
      "name": "ir"
    },
    "language_info": {
      "name": "R"
    }
  },
  "nbformat": 4,
  "nbformat_minor": 0
}